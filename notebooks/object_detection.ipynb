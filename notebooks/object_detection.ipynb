{
 "cells": [
  {
   "cell_type": "code",
   "execution_count": null,
   "metadata": {},
   "outputs": [],
   "source": [
    "import torch\n"
   ]
  },
  {
   "cell_type": "code",
   "execution_count": null,
   "metadata": {},
   "outputs": [],
   "source": [
    "%cd yolov7\n",
    "! python detect.py --weights yolov7-tiny.pt --conf 0.4 --img-size 1280 --source ../extracted_images/83952985710c8e1646ac09269938e730-_preview.png --project trial --name run\n",
    "%cd .."
   ]
  }
 ],
 "metadata": {
  "kernelspec": {
   "display_name": "Python 3.8.13 ('conda_env')",
   "language": "python",
   "name": "python3"
  },
  "language_info": {
   "codemirror_mode": {
    "name": "ipython",
    "version": 3
   },
   "file_extension": ".py",
   "mimetype": "text/x-python",
   "name": "python",
   "nbconvert_exporter": "python",
   "pygments_lexer": "ipython3",
   "version": "3.8.13"
  },
  "orig_nbformat": 4,
  "vscode": {
   "interpreter": {
    "hash": "61c9d3e915d1d442da6e23ff2e16c18f64af18e37e035ca82836b2718b4948f2"
   }
  }
 },
 "nbformat": 4,
 "nbformat_minor": 2
}
