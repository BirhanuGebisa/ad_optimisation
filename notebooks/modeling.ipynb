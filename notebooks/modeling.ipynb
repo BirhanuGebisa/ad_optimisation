{
 "cells": [
  {
   "cell_type": "code",
   "execution_count": 1,
   "metadata": {},
   "outputs": [
    {
     "name": "stderr",
     "output_type": "stream",
     "text": [
      "2022-11-05 17:27:56.486888: I tensorflow/core/platform/cpu_feature_guard.cc:193] This TensorFlow binary is optimized with oneAPI Deep Neural Network Library (oneDNN) to use the following CPU instructions in performance-critical operations:  AVX2 FMA\n",
      "To enable them in other operations, rebuild TensorFlow with the appropriate compiler flags.\n",
      "2022-11-05 17:27:56.599729: W tensorflow/stream_executor/platform/default/dso_loader.cc:64] Could not load dynamic library 'libcudart.so.11.0'; dlerror: libcudart.so.11.0: cannot open shared object file: No such file or directory; LD_LIBRARY_PATH: /home/nahom_habtemichael/project/ad_optimisation/venv/lib/python3.8/site-packages/cv2/../../lib64:\n",
      "2022-11-05 17:27:56.599766: I tensorflow/stream_executor/cuda/cudart_stub.cc:29] Ignore above cudart dlerror if you do not have a GPU set up on your machine.\n",
      "2022-11-05 17:27:56.631596: E tensorflow/stream_executor/cuda/cuda_blas.cc:2981] Unable to register cuBLAS factory: Attempting to register factory for plugin cuBLAS when one has already been registered\n",
      "2022-11-05 17:27:57.138960: W tensorflow/stream_executor/platform/default/dso_loader.cc:64] Could not load dynamic library 'libnvinfer.so.7'; dlerror: libnvinfer.so.7: cannot open shared object file: No such file or directory; LD_LIBRARY_PATH: /home/nahom_habtemichael/project/ad_optimisation/venv/lib/python3.8/site-packages/cv2/../../lib64:\n",
      "2022-11-05 17:27:57.139030: W tensorflow/stream_executor/platform/default/dso_loader.cc:64] Could not load dynamic library 'libnvinfer_plugin.so.7'; dlerror: libnvinfer_plugin.so.7: cannot open shared object file: No such file or directory; LD_LIBRARY_PATH: /home/nahom_habtemichael/project/ad_optimisation/venv/lib/python3.8/site-packages/cv2/../../lib64:\n",
      "2022-11-05 17:27:57.139036: W tensorflow/compiler/tf2tensorrt/utils/py_utils.cc:38] TF-TRT Warning: Cannot dlopen some TensorRT libraries. If you would like to use Nvidia GPU with TensorRT, please make sure the missing libraries mentioned above are installed properly.\n"
     ]
    }
   ],
   "source": [
    "#importing packages\n",
    "import numpy as np\n",
    "import pandas as pd\n",
    "import warnings\n",
    "import matplotlib.pyplot as plt\n",
    "from matplotlib.image import imread\n",
    "import cv2\n",
    "import random\n",
    "import os\n",
    "from os import listdir\n",
    "from PIL import Image\n",
    "from sklearn.preprocessing import label_binarize,  LabelBinarizer\n",
    "from keras.preprocessing import image\n",
    "from tensorflow.keras.utils import array_to_img\n",
    "from keras.optimizers import Adam\n",
    "from keras.models import Sequential\n",
    "from keras.layers import Conv2D, MaxPooling2D\n",
    "from keras.layers import Activation, Flatten, Dropout, Dense\n",
    "from sklearn.model_selection import train_test_split\n",
    "from keras.models import model_from_json\n",
    "from keras.utils import to_categorical \n",
    "from sklearn.feature_extraction.text import TfidfVectorizer\n",
    "from sklearn import preprocessing\n",
    "from sklearn.preprocessing import MinMaxScaler, Normalizer, StandardScaler, LabelEncoder\n",
    "warnings.filterwarnings(\"ignore\")"
   ]
  },
  {
   "cell_type": "code",
   "execution_count": 2,
   "metadata": {},
   "outputs": [],
   "source": [
    "color_data = pd.read_csv('../observations/color_feature.csv')\n",
    "cta_pos = pd.read_csv('../observations/cta_position.csv')\n",
    "eng_pos = pd.read_csv('../observations/engagement_position.csv')\n",
    "logo_pos = pd.read_csv('../observations/logo_position.csv')\n",
    "perfomance_df = pd.read_csv('../data/performance_data.csv')\n"
   ]
  },
  {
   "cell_type": "code",
   "execution_count": 3,
   "metadata": {},
   "outputs": [
    {
     "data": {
      "text/html": [
       "<div>\n",
       "<style scoped>\n",
       "    .dataframe tbody tr th:only-of-type {\n",
       "        vertical-align: middle;\n",
       "    }\n",
       "\n",
       "    .dataframe tbody tr th {\n",
       "        vertical-align: top;\n",
       "    }\n",
       "\n",
       "    .dataframe thead th {\n",
       "        text-align: right;\n",
       "    }\n",
       "</style>\n",
       "<table border=\"1\" class=\"dataframe\">\n",
       "  <thead>\n",
       "    <tr style=\"text-align: right;\">\n",
       "      <th></th>\n",
       "      <th>c_code</th>\n",
       "      <th>rgb</th>\n",
       "      <th>occurrence</th>\n",
       "      <th>Assets</th>\n",
       "      <th>file_name</th>\n",
       "    </tr>\n",
       "  </thead>\n",
       "  <tbody>\n",
       "    <tr>\n",
       "      <th>0</th>\n",
       "      <td>#000000</td>\n",
       "      <td>(0, 0, 0)</td>\n",
       "      <td>6838</td>\n",
       "      <td>bfbf7a2b7ac635e67877b1ab87fd6629</td>\n",
       "      <td>endtext.png</td>\n",
       "    </tr>\n",
       "    <tr>\n",
       "      <th>1</th>\n",
       "      <td>#F9FFFF</td>\n",
       "      <td>(249, 255, 255)</td>\n",
       "      <td>61593</td>\n",
       "      <td>bfbf7a2b7ac635e67877b1ab87fd6629</td>\n",
       "      <td>landing_2.jpg</td>\n",
       "    </tr>\n",
       "    <tr>\n",
       "      <th>2</th>\n",
       "      <td>#C4D8D9</td>\n",
       "      <td>(196, 216, 217)</td>\n",
       "      <td>40416</td>\n",
       "      <td>bfbf7a2b7ac635e67877b1ab87fd6629</td>\n",
       "      <td>landing_2.jpg</td>\n",
       "    </tr>\n",
       "    <tr>\n",
       "      <th>3</th>\n",
       "      <td>#615B5D</td>\n",
       "      <td>(97, 91, 93)</td>\n",
       "      <td>24738</td>\n",
       "      <td>bfbf7a2b7ac635e67877b1ab87fd6629</td>\n",
       "      <td>landing_2.jpg</td>\n",
       "    </tr>\n",
       "    <tr>\n",
       "      <th>4</th>\n",
       "      <td>#232122</td>\n",
       "      <td>(35, 33, 34)</td>\n",
       "      <td>18858</td>\n",
       "      <td>bfbf7a2b7ac635e67877b1ab87fd6629</td>\n",
       "      <td>landing_2.jpg</td>\n",
       "    </tr>\n",
       "  </tbody>\n",
       "</table>\n",
       "</div>"
      ],
      "text/plain": [
       "    c_code              rgb  occurrence                            Assets  \\\n",
       "0  #000000        (0, 0, 0)        6838  bfbf7a2b7ac635e67877b1ab87fd6629   \n",
       "1  #F9FFFF  (249, 255, 255)       61593  bfbf7a2b7ac635e67877b1ab87fd6629   \n",
       "2  #C4D8D9  (196, 216, 217)       40416  bfbf7a2b7ac635e67877b1ab87fd6629   \n",
       "3  #615B5D     (97, 91, 93)       24738  bfbf7a2b7ac635e67877b1ab87fd6629   \n",
       "4  #232122     (35, 33, 34)       18858  bfbf7a2b7ac635e67877b1ab87fd6629   \n",
       "\n",
       "       file_name  \n",
       "0    endtext.png  \n",
       "1  landing_2.jpg  \n",
       "2  landing_2.jpg  \n",
       "3  landing_2.jpg  \n",
       "4  landing_2.jpg  "
      ]
     },
     "execution_count": 3,
     "metadata": {},
     "output_type": "execute_result"
    }
   ],
   "source": [
    "color_data.head()"
   ]
  },
  {
   "cell_type": "code",
   "execution_count": 4,
   "metadata": {},
   "outputs": [
    {
     "data": {
      "text/html": [
       "<div>\n",
       "<style scoped>\n",
       "    .dataframe tbody tr th:only-of-type {\n",
       "        vertical-align: middle;\n",
       "    }\n",
       "\n",
       "    .dataframe tbody tr th {\n",
       "        vertical-align: top;\n",
       "    }\n",
       "\n",
       "    .dataframe thead th {\n",
       "        text-align: right;\n",
       "    }\n",
       "</style>\n",
       "<table border=\"1\" class=\"dataframe\">\n",
       "  <thead>\n",
       "    <tr style=\"text-align: right;\">\n",
       "      <th></th>\n",
       "      <th>Assets</th>\n",
       "      <th>located_image</th>\n",
       "      <th>base_image</th>\n",
       "      <th>top_left_X</th>\n",
       "      <th>top_left_Y</th>\n",
       "      <th>bottom_right_X</th>\n",
       "      <th>top_right_Y</th>\n",
       "      <th>height</th>\n",
       "      <th>width</th>\n",
       "      <th>total_image_height</th>\n",
       "      <th>total_image_width</th>\n",
       "    </tr>\n",
       "  </thead>\n",
       "  <tbody>\n",
       "    <tr>\n",
       "      <th>0</th>\n",
       "      <td>bfbf7a2b7ac635e67877b1ab87fd6629</td>\n",
       "      <td>cta.png</td>\n",
       "      <td>_preview.png</td>\n",
       "      <td>104.0</td>\n",
       "      <td>215.0</td>\n",
       "      <td>404.0</td>\n",
       "      <td>279.0</td>\n",
       "      <td>64.0</td>\n",
       "      <td>300.0</td>\n",
       "      <td>900.0</td>\n",
       "      <td>600.0</td>\n",
       "    </tr>\n",
       "    <tr>\n",
       "      <th>1</th>\n",
       "      <td>945010afbf9a55bbdffcb0895f946155</td>\n",
       "      <td>cta.png</td>\n",
       "      <td>_preview.png</td>\n",
       "      <td>104.0</td>\n",
       "      <td>215.0</td>\n",
       "      <td>404.0</td>\n",
       "      <td>279.0</td>\n",
       "      <td>64.0</td>\n",
       "      <td>300.0</td>\n",
       "      <td>900.0</td>\n",
       "      <td>600.0</td>\n",
       "    </tr>\n",
       "    <tr>\n",
       "      <th>2</th>\n",
       "      <td>e68e20f592457b875ce29757ab855dfe</td>\n",
       "      <td>cta.png</td>\n",
       "      <td>_preview.png</td>\n",
       "      <td>366.0</td>\n",
       "      <td>154.0</td>\n",
       "      <td>600.0</td>\n",
       "      <td>204.0</td>\n",
       "      <td>50.0</td>\n",
       "      <td>234.0</td>\n",
       "      <td>500.0</td>\n",
       "      <td>600.0</td>\n",
       "    </tr>\n",
       "    <tr>\n",
       "      <th>3</th>\n",
       "      <td>adunit-nestle-purina-friskies-mob</td>\n",
       "      <td>cta</td>\n",
       "      <td>_preview.png</td>\n",
       "      <td>NaN</td>\n",
       "      <td>NaN</td>\n",
       "      <td>NaN</td>\n",
       "      <td>NaN</td>\n",
       "      <td>NaN</td>\n",
       "      <td>NaN</td>\n",
       "      <td>NaN</td>\n",
       "      <td>NaN</td>\n",
       "    </tr>\n",
       "    <tr>\n",
       "      <th>4</th>\n",
       "      <td>adunit-lionsgate-uwomt-user-slider-sensory-vid...</td>\n",
       "      <td>cta</td>\n",
       "      <td>_preview.png</td>\n",
       "      <td>NaN</td>\n",
       "      <td>NaN</td>\n",
       "      <td>NaN</td>\n",
       "      <td>NaN</td>\n",
       "      <td>NaN</td>\n",
       "      <td>NaN</td>\n",
       "      <td>NaN</td>\n",
       "      <td>NaN</td>\n",
       "    </tr>\n",
       "  </tbody>\n",
       "</table>\n",
       "</div>"
      ],
      "text/plain": [
       "                                              Assets located_image  \\\n",
       "0                   bfbf7a2b7ac635e67877b1ab87fd6629       cta.png   \n",
       "1                   945010afbf9a55bbdffcb0895f946155       cta.png   \n",
       "2                   e68e20f592457b875ce29757ab855dfe       cta.png   \n",
       "3                  adunit-nestle-purina-friskies-mob           cta   \n",
       "4  adunit-lionsgate-uwomt-user-slider-sensory-vid...           cta   \n",
       "\n",
       "     base_image  top_left_X  top_left_Y  bottom_right_X  top_right_Y  height  \\\n",
       "0  _preview.png       104.0       215.0           404.0        279.0    64.0   \n",
       "1  _preview.png       104.0       215.0           404.0        279.0    64.0   \n",
       "2  _preview.png       366.0       154.0           600.0        204.0    50.0   \n",
       "3  _preview.png         NaN         NaN             NaN          NaN     NaN   \n",
       "4  _preview.png         NaN         NaN             NaN          NaN     NaN   \n",
       "\n",
       "   width  total_image_height  total_image_width  \n",
       "0  300.0               900.0              600.0  \n",
       "1  300.0               900.0              600.0  \n",
       "2  234.0               500.0              600.0  \n",
       "3    NaN                 NaN                NaN  \n",
       "4    NaN                 NaN                NaN  "
      ]
     },
     "execution_count": 4,
     "metadata": {},
     "output_type": "execute_result"
    }
   ],
   "source": [
    "cta_pos.head()"
   ]
  },
  {
   "cell_type": "code",
   "execution_count": 5,
   "metadata": {},
   "outputs": [
    {
     "data": {
      "text/html": [
       "<div>\n",
       "<style scoped>\n",
       "    .dataframe tbody tr th:only-of-type {\n",
       "        vertical-align: middle;\n",
       "    }\n",
       "\n",
       "    .dataframe tbody tr th {\n",
       "        vertical-align: top;\n",
       "    }\n",
       "\n",
       "    .dataframe thead th {\n",
       "        text-align: right;\n",
       "    }\n",
       "</style>\n",
       "<table border=\"1\" class=\"dataframe\">\n",
       "  <thead>\n",
       "    <tr style=\"text-align: right;\">\n",
       "      <th></th>\n",
       "      <th>Assets</th>\n",
       "      <th>located_image</th>\n",
       "      <th>base_image</th>\n",
       "      <th>top_left_X</th>\n",
       "      <th>top_left_Y</th>\n",
       "      <th>bottom_right_X</th>\n",
       "      <th>top_right_Y</th>\n",
       "      <th>height</th>\n",
       "      <th>width</th>\n",
       "      <th>total_image_height</th>\n",
       "      <th>total_image_width</th>\n",
       "    </tr>\n",
       "  </thead>\n",
       "  <tbody>\n",
       "    <tr>\n",
       "      <th>0</th>\n",
       "      <td>bfbf7a2b7ac635e67877b1ab87fd6629</td>\n",
       "      <td>engagement_instruction.png</td>\n",
       "      <td>_preview.png</td>\n",
       "      <td>60.0</td>\n",
       "      <td>185.0</td>\n",
       "      <td>526.0</td>\n",
       "      <td>262.0</td>\n",
       "      <td>77.0</td>\n",
       "      <td>466.0</td>\n",
       "      <td>900.0</td>\n",
       "      <td>600.0</td>\n",
       "    </tr>\n",
       "    <tr>\n",
       "      <th>1</th>\n",
       "      <td>945010afbf9a55bbdffcb0895f946155</td>\n",
       "      <td>engagement_instruction.png</td>\n",
       "      <td>_preview.png</td>\n",
       "      <td>60.0</td>\n",
       "      <td>185.0</td>\n",
       "      <td>526.0</td>\n",
       "      <td>262.0</td>\n",
       "      <td>77.0</td>\n",
       "      <td>466.0</td>\n",
       "      <td>900.0</td>\n",
       "      <td>600.0</td>\n",
       "    </tr>\n",
       "    <tr>\n",
       "      <th>2</th>\n",
       "      <td>e68e20f592457b875ce29757ab855dfe</td>\n",
       "      <td>engagement_instruction.png</td>\n",
       "      <td>_preview.png</td>\n",
       "      <td>50.0</td>\n",
       "      <td>114.0</td>\n",
       "      <td>430.0</td>\n",
       "      <td>177.0</td>\n",
       "      <td>63.0</td>\n",
       "      <td>380.0</td>\n",
       "      <td>500.0</td>\n",
       "      <td>600.0</td>\n",
       "    </tr>\n",
       "    <tr>\n",
       "      <th>3</th>\n",
       "      <td>adunit-nestle-purina-friskies-mob</td>\n",
       "      <td>engagement</td>\n",
       "      <td>_preview.png</td>\n",
       "      <td>NaN</td>\n",
       "      <td>NaN</td>\n",
       "      <td>NaN</td>\n",
       "      <td>NaN</td>\n",
       "      <td>NaN</td>\n",
       "      <td>NaN</td>\n",
       "      <td>NaN</td>\n",
       "      <td>NaN</td>\n",
       "    </tr>\n",
       "    <tr>\n",
       "      <th>4</th>\n",
       "      <td>adunit-lionsgate-uwomt-user-slider-sensory-vid...</td>\n",
       "      <td>engagement</td>\n",
       "      <td>_preview.png</td>\n",
       "      <td>NaN</td>\n",
       "      <td>NaN</td>\n",
       "      <td>NaN</td>\n",
       "      <td>NaN</td>\n",
       "      <td>NaN</td>\n",
       "      <td>NaN</td>\n",
       "      <td>NaN</td>\n",
       "      <td>NaN</td>\n",
       "    </tr>\n",
       "  </tbody>\n",
       "</table>\n",
       "</div>"
      ],
      "text/plain": [
       "                                              Assets  \\\n",
       "0                   bfbf7a2b7ac635e67877b1ab87fd6629   \n",
       "1                   945010afbf9a55bbdffcb0895f946155   \n",
       "2                   e68e20f592457b875ce29757ab855dfe   \n",
       "3                  adunit-nestle-purina-friskies-mob   \n",
       "4  adunit-lionsgate-uwomt-user-slider-sensory-vid...   \n",
       "\n",
       "                located_image    base_image  top_left_X  top_left_Y  \\\n",
       "0  engagement_instruction.png  _preview.png        60.0       185.0   \n",
       "1  engagement_instruction.png  _preview.png        60.0       185.0   \n",
       "2  engagement_instruction.png  _preview.png        50.0       114.0   \n",
       "3                  engagement  _preview.png         NaN         NaN   \n",
       "4                  engagement  _preview.png         NaN         NaN   \n",
       "\n",
       "   bottom_right_X  top_right_Y  height  width  total_image_height  \\\n",
       "0           526.0        262.0    77.0  466.0               900.0   \n",
       "1           526.0        262.0    77.0  466.0               900.0   \n",
       "2           430.0        177.0    63.0  380.0               500.0   \n",
       "3             NaN          NaN     NaN    NaN                 NaN   \n",
       "4             NaN          NaN     NaN    NaN                 NaN   \n",
       "\n",
       "   total_image_width  \n",
       "0              600.0  \n",
       "1              600.0  \n",
       "2              600.0  \n",
       "3                NaN  \n",
       "4                NaN  "
      ]
     },
     "execution_count": 5,
     "metadata": {},
     "output_type": "execute_result"
    }
   ],
   "source": [
    "eng_pos.head()"
   ]
  },
  {
   "cell_type": "code",
   "execution_count": 6,
   "metadata": {},
   "outputs": [
    {
     "data": {
      "text/html": [
       "<div>\n",
       "<style scoped>\n",
       "    .dataframe tbody tr th:only-of-type {\n",
       "        vertical-align: middle;\n",
       "    }\n",
       "\n",
       "    .dataframe tbody tr th {\n",
       "        vertical-align: top;\n",
       "    }\n",
       "\n",
       "    .dataframe thead th {\n",
       "        text-align: right;\n",
       "    }\n",
       "</style>\n",
       "<table border=\"1\" class=\"dataframe\">\n",
       "  <thead>\n",
       "    <tr style=\"text-align: right;\">\n",
       "      <th></th>\n",
       "      <th>Assets</th>\n",
       "      <th>located_image</th>\n",
       "      <th>base_image</th>\n",
       "      <th>top_left_X</th>\n",
       "      <th>top_left_Y</th>\n",
       "      <th>bottom_right_X</th>\n",
       "      <th>top_right_Y</th>\n",
       "      <th>height</th>\n",
       "      <th>width</th>\n",
       "      <th>total_image_height</th>\n",
       "      <th>total_image_width</th>\n",
       "    </tr>\n",
       "  </thead>\n",
       "  <tbody>\n",
       "    <tr>\n",
       "      <th>0</th>\n",
       "      <td>bfbf7a2b7ac635e67877b1ab87fd6629</td>\n",
       "      <td>logo</td>\n",
       "      <td>_preview.png</td>\n",
       "      <td>NaN</td>\n",
       "      <td>NaN</td>\n",
       "      <td>NaN</td>\n",
       "      <td>NaN</td>\n",
       "      <td>NaN</td>\n",
       "      <td>NaN</td>\n",
       "      <td>NaN</td>\n",
       "      <td>NaN</td>\n",
       "    </tr>\n",
       "    <tr>\n",
       "      <th>1</th>\n",
       "      <td>945010afbf9a55bbdffcb0895f946155</td>\n",
       "      <td>logo</td>\n",
       "      <td>_preview.png</td>\n",
       "      <td>NaN</td>\n",
       "      <td>NaN</td>\n",
       "      <td>NaN</td>\n",
       "      <td>NaN</td>\n",
       "      <td>NaN</td>\n",
       "      <td>NaN</td>\n",
       "      <td>NaN</td>\n",
       "      <td>NaN</td>\n",
       "    </tr>\n",
       "    <tr>\n",
       "      <th>2</th>\n",
       "      <td>e68e20f592457b875ce29757ab855dfe</td>\n",
       "      <td>logo</td>\n",
       "      <td>_preview.png</td>\n",
       "      <td>NaN</td>\n",
       "      <td>NaN</td>\n",
       "      <td>NaN</td>\n",
       "      <td>NaN</td>\n",
       "      <td>NaN</td>\n",
       "      <td>NaN</td>\n",
       "      <td>NaN</td>\n",
       "      <td>NaN</td>\n",
       "    </tr>\n",
       "    <tr>\n",
       "      <th>3</th>\n",
       "      <td>adunit-nestle-purina-friskies-mob</td>\n",
       "      <td>logo</td>\n",
       "      <td>_preview.png</td>\n",
       "      <td>NaN</td>\n",
       "      <td>NaN</td>\n",
       "      <td>NaN</td>\n",
       "      <td>NaN</td>\n",
       "      <td>NaN</td>\n",
       "      <td>NaN</td>\n",
       "      <td>NaN</td>\n",
       "      <td>NaN</td>\n",
       "    </tr>\n",
       "    <tr>\n",
       "      <th>4</th>\n",
       "      <td>adunit-lionsgate-uwomt-user-slider-sensory-vid...</td>\n",
       "      <td>logo</td>\n",
       "      <td>_preview.png</td>\n",
       "      <td>NaN</td>\n",
       "      <td>NaN</td>\n",
       "      <td>NaN</td>\n",
       "      <td>NaN</td>\n",
       "      <td>NaN</td>\n",
       "      <td>NaN</td>\n",
       "      <td>NaN</td>\n",
       "      <td>NaN</td>\n",
       "    </tr>\n",
       "  </tbody>\n",
       "</table>\n",
       "</div>"
      ],
      "text/plain": [
       "                                              Assets located_image  \\\n",
       "0                   bfbf7a2b7ac635e67877b1ab87fd6629          logo   \n",
       "1                   945010afbf9a55bbdffcb0895f946155          logo   \n",
       "2                   e68e20f592457b875ce29757ab855dfe          logo   \n",
       "3                  adunit-nestle-purina-friskies-mob          logo   \n",
       "4  adunit-lionsgate-uwomt-user-slider-sensory-vid...          logo   \n",
       "\n",
       "     base_image  top_left_X  top_left_Y  bottom_right_X  top_right_Y  height  \\\n",
       "0  _preview.png         NaN         NaN             NaN          NaN     NaN   \n",
       "1  _preview.png         NaN         NaN             NaN          NaN     NaN   \n",
       "2  _preview.png         NaN         NaN             NaN          NaN     NaN   \n",
       "3  _preview.png         NaN         NaN             NaN          NaN     NaN   \n",
       "4  _preview.png         NaN         NaN             NaN          NaN     NaN   \n",
       "\n",
       "   width  total_image_height  total_image_width  \n",
       "0    NaN                 NaN                NaN  \n",
       "1    NaN                 NaN                NaN  \n",
       "2    NaN                 NaN                NaN  \n",
       "3    NaN                 NaN                NaN  \n",
       "4    NaN                 NaN                NaN  "
      ]
     },
     "execution_count": 6,
     "metadata": {},
     "output_type": "execute_result"
    }
   ],
   "source": [
    "logo_pos.head()"
   ]
  },
  {
   "cell_type": "code",
   "execution_count": 7,
   "metadata": {},
   "outputs": [
    {
     "name": "stdout",
     "output_type": "stream",
     "text": [
      "<class 'pandas.core.frame.DataFrame'>\n",
      "RangeIndex: 67954 entries, 0 to 67953\n",
      "Data columns (total 5 columns):\n",
      " #   Column      Non-Null Count  Dtype \n",
      "---  ------      --------------  ----- \n",
      " 0   c_code      67954 non-null  object\n",
      " 1   rgb         67954 non-null  object\n",
      " 2   occurrence  67954 non-null  int64 \n",
      " 3   Assets      67954 non-null  object\n",
      " 4   file_name   67954 non-null  object\n",
      "dtypes: int64(1), object(4)\n",
      "memory usage: 2.6+ MB\n"
     ]
    }
   ],
   "source": [
    "color_data.info()"
   ]
  },
  {
   "cell_type": "code",
   "execution_count": 8,
   "metadata": {},
   "outputs": [
    {
     "data": {
      "text/plain": [
       "c_code        0\n",
       "rgb           0\n",
       "occurrence    0\n",
       "Assets        0\n",
       "file_name     0\n",
       "dtype: int64"
      ]
     },
     "execution_count": 8,
     "metadata": {},
     "output_type": "execute_result"
    }
   ],
   "source": [
    "color_data.isnull().sum()"
   ]
  },
  {
   "cell_type": "code",
   "execution_count": 9,
   "metadata": {},
   "outputs": [
    {
     "name": "stdout",
     "output_type": "stream",
     "text": [
      "<class 'pandas.core.frame.DataFrame'>\n",
      "RangeIndex: 905 entries, 0 to 904\n",
      "Data columns (total 11 columns):\n",
      " #   Column              Non-Null Count  Dtype  \n",
      "---  ------              --------------  -----  \n",
      " 0   Assets              905 non-null    object \n",
      " 1   located_image       905 non-null    object \n",
      " 2   base_image          905 non-null    object \n",
      " 3   top_left_X          502 non-null    float64\n",
      " 4   top_left_Y          502 non-null    float64\n",
      " 5   bottom_right_X      502 non-null    float64\n",
      " 6   top_right_Y         502 non-null    float64\n",
      " 7   height              502 non-null    float64\n",
      " 8   width               502 non-null    float64\n",
      " 9   total_image_height  502 non-null    float64\n",
      " 10  total_image_width   502 non-null    float64\n",
      "dtypes: float64(8), object(3)\n",
      "memory usage: 77.9+ KB\n"
     ]
    }
   ],
   "source": [
    "cta_pos.info()"
   ]
  },
  {
   "cell_type": "code",
   "execution_count": 10,
   "metadata": {},
   "outputs": [
    {
     "data": {
      "text/plain": [
       "Assets                  0\n",
       "located_image           0\n",
       "base_image              0\n",
       "top_left_X            403\n",
       "top_left_Y            403\n",
       "bottom_right_X        403\n",
       "top_right_Y           403\n",
       "height                403\n",
       "width                 403\n",
       "total_image_height    403\n",
       "total_image_width     403\n",
       "dtype: int64"
      ]
     },
     "execution_count": 10,
     "metadata": {},
     "output_type": "execute_result"
    }
   ],
   "source": [
    "cta_pos.isnull().sum()"
   ]
  },
  {
   "cell_type": "code",
   "execution_count": 11,
   "metadata": {},
   "outputs": [
    {
     "name": "stdout",
     "output_type": "stream",
     "text": [
      "<class 'pandas.core.frame.DataFrame'>\n",
      "RangeIndex: 905 entries, 0 to 904\n",
      "Data columns (total 11 columns):\n",
      " #   Column              Non-Null Count  Dtype  \n",
      "---  ------              --------------  -----  \n",
      " 0   Assets              905 non-null    object \n",
      " 1   located_image       905 non-null    object \n",
      " 2   base_image          905 non-null    object \n",
      " 3   top_left_X          481 non-null    float64\n",
      " 4   top_left_Y          481 non-null    float64\n",
      " 5   bottom_right_X      481 non-null    float64\n",
      " 6   top_right_Y         481 non-null    float64\n",
      " 7   height              481 non-null    float64\n",
      " 8   width               481 non-null    float64\n",
      " 9   total_image_height  481 non-null    float64\n",
      " 10  total_image_width   481 non-null    float64\n",
      "dtypes: float64(8), object(3)\n",
      "memory usage: 77.9+ KB\n"
     ]
    }
   ],
   "source": [
    "eng_pos.info()"
   ]
  },
  {
   "cell_type": "code",
   "execution_count": 12,
   "metadata": {},
   "outputs": [
    {
     "data": {
      "text/plain": [
       "Assets                  0\n",
       "located_image           0\n",
       "base_image              0\n",
       "top_left_X            424\n",
       "top_left_Y            424\n",
       "bottom_right_X        424\n",
       "top_right_Y           424\n",
       "height                424\n",
       "width                 424\n",
       "total_image_height    424\n",
       "total_image_width     424\n",
       "dtype: int64"
      ]
     },
     "execution_count": 12,
     "metadata": {},
     "output_type": "execute_result"
    }
   ],
   "source": [
    "eng_pos.isnull().sum()"
   ]
  },
  {
   "cell_type": "code",
   "execution_count": 13,
   "metadata": {},
   "outputs": [
    {
     "name": "stdout",
     "output_type": "stream",
     "text": [
      "<class 'pandas.core.frame.DataFrame'>\n",
      "RangeIndex: 905 entries, 0 to 904\n",
      "Data columns (total 11 columns):\n",
      " #   Column              Non-Null Count  Dtype  \n",
      "---  ------              --------------  -----  \n",
      " 0   Assets              905 non-null    object \n",
      " 1   located_image       905 non-null    object \n",
      " 2   base_image          905 non-null    object \n",
      " 3   top_left_X          195 non-null    float64\n",
      " 4   top_left_Y          195 non-null    float64\n",
      " 5   bottom_right_X      195 non-null    float64\n",
      " 6   top_right_Y         195 non-null    float64\n",
      " 7   height              195 non-null    float64\n",
      " 8   width               195 non-null    float64\n",
      " 9   total_image_height  195 non-null    float64\n",
      " 10  total_image_width   195 non-null    float64\n",
      "dtypes: float64(8), object(3)\n",
      "memory usage: 77.9+ KB\n"
     ]
    }
   ],
   "source": [
    "logo_pos.info()"
   ]
  },
  {
   "cell_type": "code",
   "execution_count": 14,
   "metadata": {},
   "outputs": [
    {
     "data": {
      "text/plain": [
       "Assets                  0\n",
       "located_image           0\n",
       "base_image              0\n",
       "top_left_X            710\n",
       "top_left_Y            710\n",
       "bottom_right_X        710\n",
       "top_right_Y           710\n",
       "height                710\n",
       "width                 710\n",
       "total_image_height    710\n",
       "total_image_width     710\n",
       "dtype: int64"
      ]
     },
     "execution_count": 14,
     "metadata": {},
     "output_type": "execute_result"
    }
   ],
   "source": [
    "logo_pos.isnull().sum()"
   ]
  },
  {
   "cell_type": "code",
   "execution_count": 15,
   "metadata": {},
   "outputs": [
    {
     "name": "stdout",
     "output_type": "stream",
     "text": [
      "<class 'pandas.core.frame.DataFrame'>\n",
      "RangeIndex: 905 entries, 0 to 904\n",
      "Data columns (total 4 columns):\n",
      " #   Column        Non-Null Count  Dtype  \n",
      "---  ------        --------------  -----  \n",
      " 0   game_id       905 non-null    object \n",
      " 1   preview_link  905 non-null    object \n",
      " 2   ER            905 non-null    float64\n",
      " 3   CTR           905 non-null    float64\n",
      "dtypes: float64(2), object(2)\n",
      "memory usage: 28.4+ KB\n"
     ]
    }
   ],
   "source": [
    "perfomance_df.info()"
   ]
  },
  {
   "cell_type": "code",
   "execution_count": 16,
   "metadata": {},
   "outputs": [],
   "source": [
    "perfomance_df.drop('preview_link',axis=1, inplace=True)"
   ]
  },
  {
   "cell_type": "code",
   "execution_count": 17,
   "metadata": {},
   "outputs": [
    {
     "data": {
      "text/html": [
       "<div>\n",
       "<style scoped>\n",
       "    .dataframe tbody tr th:only-of-type {\n",
       "        vertical-align: middle;\n",
       "    }\n",
       "\n",
       "    .dataframe tbody tr th {\n",
       "        vertical-align: top;\n",
       "    }\n",
       "\n",
       "    .dataframe thead th {\n",
       "        text-align: right;\n",
       "    }\n",
       "</style>\n",
       "<table border=\"1\" class=\"dataframe\">\n",
       "  <thead>\n",
       "    <tr style=\"text-align: right;\">\n",
       "      <th></th>\n",
       "      <th>game_id</th>\n",
       "      <th>ER</th>\n",
       "      <th>CTR</th>\n",
       "    </tr>\n",
       "  </thead>\n",
       "  <tbody>\n",
       "    <tr>\n",
       "      <th>0</th>\n",
       "      <td>bfbf7a2b7ac635e67877b1ab87fd6629</td>\n",
       "      <td>0.209269</td>\n",
       "      <td>0.058438</td>\n",
       "    </tr>\n",
       "    <tr>\n",
       "      <th>1</th>\n",
       "      <td>945010afbf9a55bbdffcb0895f946155</td>\n",
       "      <td>0.274552</td>\n",
       "      <td>0.074731</td>\n",
       "    </tr>\n",
       "    <tr>\n",
       "      <th>2</th>\n",
       "      <td>e68e20f592457b875ce29757ab855dfe</td>\n",
       "      <td>0.103688</td>\n",
       "      <td>0.042228</td>\n",
       "    </tr>\n",
       "    <tr>\n",
       "      <th>3</th>\n",
       "      <td>adunit-nestle-purina-friskies-mob</td>\n",
       "      <td>0.136963</td>\n",
       "      <td>0.005393</td>\n",
       "    </tr>\n",
       "    <tr>\n",
       "      <th>4</th>\n",
       "      <td>adunit-lionsgate-uwomt-user-slider-sensory-vid...</td>\n",
       "      <td>0.114208</td>\n",
       "      <td>0.016443</td>\n",
       "    </tr>\n",
       "  </tbody>\n",
       "</table>\n",
       "</div>"
      ],
      "text/plain": [
       "                                             game_id        ER       CTR\n",
       "0                   bfbf7a2b7ac635e67877b1ab87fd6629  0.209269  0.058438\n",
       "1                   945010afbf9a55bbdffcb0895f946155  0.274552  0.074731\n",
       "2                   e68e20f592457b875ce29757ab855dfe  0.103688  0.042228\n",
       "3                  adunit-nestle-purina-friskies-mob  0.136963  0.005393\n",
       "4  adunit-lionsgate-uwomt-user-slider-sensory-vid...  0.114208  0.016443"
      ]
     },
     "execution_count": 17,
     "metadata": {},
     "output_type": "execute_result"
    }
   ],
   "source": [
    "perfomance_df.head()"
   ]
  },
  {
   "cell_type": "code",
   "execution_count": 18,
   "metadata": {},
   "outputs": [
    {
     "data": {
      "text/html": [
       "<div>\n",
       "<style scoped>\n",
       "    .dataframe tbody tr th:only-of-type {\n",
       "        vertical-align: middle;\n",
       "    }\n",
       "\n",
       "    .dataframe tbody tr th {\n",
       "        vertical-align: top;\n",
       "    }\n",
       "\n",
       "    .dataframe thead th {\n",
       "        text-align: right;\n",
       "    }\n",
       "</style>\n",
       "<table border=\"1\" class=\"dataframe\">\n",
       "  <thead>\n",
       "    <tr style=\"text-align: right;\">\n",
       "      <th></th>\n",
       "      <th>Assets</th>\n",
       "      <th>located_image</th>\n",
       "      <th>base_image</th>\n",
       "      <th>top_left_X</th>\n",
       "      <th>top_left_Y</th>\n",
       "      <th>bottom_right_X</th>\n",
       "      <th>top_right_Y</th>\n",
       "      <th>height</th>\n",
       "      <th>width</th>\n",
       "      <th>total_image_height</th>\n",
       "      <th>total_image_width</th>\n",
       "    </tr>\n",
       "  </thead>\n",
       "  <tbody>\n",
       "    <tr>\n",
       "      <th>0</th>\n",
       "      <td>bfbf7a2b7ac635e67877b1ab87fd6629</td>\n",
       "      <td>logo</td>\n",
       "      <td>_preview.png</td>\n",
       "      <td>NaN</td>\n",
       "      <td>NaN</td>\n",
       "      <td>NaN</td>\n",
       "      <td>NaN</td>\n",
       "      <td>NaN</td>\n",
       "      <td>NaN</td>\n",
       "      <td>NaN</td>\n",
       "      <td>NaN</td>\n",
       "    </tr>\n",
       "    <tr>\n",
       "      <th>1</th>\n",
       "      <td>945010afbf9a55bbdffcb0895f946155</td>\n",
       "      <td>logo</td>\n",
       "      <td>_preview.png</td>\n",
       "      <td>NaN</td>\n",
       "      <td>NaN</td>\n",
       "      <td>NaN</td>\n",
       "      <td>NaN</td>\n",
       "      <td>NaN</td>\n",
       "      <td>NaN</td>\n",
       "      <td>NaN</td>\n",
       "      <td>NaN</td>\n",
       "    </tr>\n",
       "    <tr>\n",
       "      <th>2</th>\n",
       "      <td>e68e20f592457b875ce29757ab855dfe</td>\n",
       "      <td>logo</td>\n",
       "      <td>_preview.png</td>\n",
       "      <td>NaN</td>\n",
       "      <td>NaN</td>\n",
       "      <td>NaN</td>\n",
       "      <td>NaN</td>\n",
       "      <td>NaN</td>\n",
       "      <td>NaN</td>\n",
       "      <td>NaN</td>\n",
       "      <td>NaN</td>\n",
       "    </tr>\n",
       "    <tr>\n",
       "      <th>3</th>\n",
       "      <td>adunit-nestle-purina-friskies-mob</td>\n",
       "      <td>logo</td>\n",
       "      <td>_preview.png</td>\n",
       "      <td>NaN</td>\n",
       "      <td>NaN</td>\n",
       "      <td>NaN</td>\n",
       "      <td>NaN</td>\n",
       "      <td>NaN</td>\n",
       "      <td>NaN</td>\n",
       "      <td>NaN</td>\n",
       "      <td>NaN</td>\n",
       "    </tr>\n",
       "    <tr>\n",
       "      <th>4</th>\n",
       "      <td>adunit-lionsgate-uwomt-user-slider-sensory-vid...</td>\n",
       "      <td>logo</td>\n",
       "      <td>_preview.png</td>\n",
       "      <td>NaN</td>\n",
       "      <td>NaN</td>\n",
       "      <td>NaN</td>\n",
       "      <td>NaN</td>\n",
       "      <td>NaN</td>\n",
       "      <td>NaN</td>\n",
       "      <td>NaN</td>\n",
       "      <td>NaN</td>\n",
       "    </tr>\n",
       "  </tbody>\n",
       "</table>\n",
       "</div>"
      ],
      "text/plain": [
       "                                              Assets located_image  \\\n",
       "0                   bfbf7a2b7ac635e67877b1ab87fd6629          logo   \n",
       "1                   945010afbf9a55bbdffcb0895f946155          logo   \n",
       "2                   e68e20f592457b875ce29757ab855dfe          logo   \n",
       "3                  adunit-nestle-purina-friskies-mob          logo   \n",
       "4  adunit-lionsgate-uwomt-user-slider-sensory-vid...          logo   \n",
       "\n",
       "     base_image  top_left_X  top_left_Y  bottom_right_X  top_right_Y  height  \\\n",
       "0  _preview.png         NaN         NaN             NaN          NaN     NaN   \n",
       "1  _preview.png         NaN         NaN             NaN          NaN     NaN   \n",
       "2  _preview.png         NaN         NaN             NaN          NaN     NaN   \n",
       "3  _preview.png         NaN         NaN             NaN          NaN     NaN   \n",
       "4  _preview.png         NaN         NaN             NaN          NaN     NaN   \n",
       "\n",
       "   width  total_image_height  total_image_width  \n",
       "0    NaN                 NaN                NaN  \n",
       "1    NaN                 NaN                NaN  \n",
       "2    NaN                 NaN                NaN  \n",
       "3    NaN                 NaN                NaN  \n",
       "4    NaN                 NaN                NaN  "
      ]
     },
     "execution_count": 18,
     "metadata": {},
     "output_type": "execute_result"
    }
   ],
   "source": [
    "logo_pos.head()"
   ]
  },
  {
   "cell_type": "code",
   "execution_count": 19,
   "metadata": {},
   "outputs": [
    {
     "name": "stdout",
     "output_type": "stream",
     "text": [
      "color Index(['c_code', 'rgb', 'occurrence', 'Assets', 'file_name'], dtype='object')\n",
      "cta Index(['Assets', 'located_image', 'base_image', 'top_left_X', 'top_left_Y',\n",
      "       'bottom_right_X', 'top_right_Y', 'height', 'width',\n",
      "       'total_image_height', 'total_image_width'],\n",
      "      dtype='object')\n",
      "eng Index(['Assets', 'located_image', 'base_image', 'top_left_X', 'top_left_Y',\n",
      "       'bottom_right_X', 'top_right_Y', 'height', 'width',\n",
      "       'total_image_height', 'total_image_width'],\n",
      "      dtype='object')\n",
      "logo Index(['Assets', 'located_image', 'base_image', 'top_left_X', 'top_left_Y',\n",
      "       'bottom_right_X', 'top_right_Y', 'height', 'width',\n",
      "       'total_image_height', 'total_image_width'],\n",
      "      dtype='object')\n"
     ]
    }
   ],
   "source": [
    "print('color',color_data.columns)\n",
    "print('cta',cta_pos.columns)\n",
    "print('eng',eng_pos.columns)\n",
    "print('logo',logo_pos.columns)"
   ]
  },
  {
   "cell_type": "code",
   "execution_count": 20,
   "metadata": {},
   "outputs": [],
   "source": [
    "merged_df = pd.merge(pd.merge(color_data,cta_pos,on='Assets'),eng_pos,on='Assets')"
   ]
  },
  {
   "cell_type": "code",
   "execution_count": 21,
   "metadata": {},
   "outputs": [
    {
     "data": {
      "text/html": [
       "<div>\n",
       "<style scoped>\n",
       "    .dataframe tbody tr th:only-of-type {\n",
       "        vertical-align: middle;\n",
       "    }\n",
       "\n",
       "    .dataframe tbody tr th {\n",
       "        vertical-align: top;\n",
       "    }\n",
       "\n",
       "    .dataframe thead th {\n",
       "        text-align: right;\n",
       "    }\n",
       "</style>\n",
       "<table border=\"1\" class=\"dataframe\">\n",
       "  <thead>\n",
       "    <tr style=\"text-align: right;\">\n",
       "      <th></th>\n",
       "      <th>c_code</th>\n",
       "      <th>rgb</th>\n",
       "      <th>occurrence</th>\n",
       "      <th>Assets</th>\n",
       "      <th>file_name</th>\n",
       "      <th>located_image_x</th>\n",
       "      <th>base_image_x</th>\n",
       "      <th>top_left_X_x</th>\n",
       "      <th>top_left_Y_x</th>\n",
       "      <th>bottom_right_X_x</th>\n",
       "      <th>...</th>\n",
       "      <th>located_image_y</th>\n",
       "      <th>base_image_y</th>\n",
       "      <th>top_left_X_y</th>\n",
       "      <th>top_left_Y_y</th>\n",
       "      <th>bottom_right_X_y</th>\n",
       "      <th>top_right_Y_y</th>\n",
       "      <th>height_y</th>\n",
       "      <th>width_y</th>\n",
       "      <th>total_image_height_y</th>\n",
       "      <th>total_image_width_y</th>\n",
       "    </tr>\n",
       "  </thead>\n",
       "  <tbody>\n",
       "    <tr>\n",
       "      <th>0</th>\n",
       "      <td>#000000</td>\n",
       "      <td>(0, 0, 0)</td>\n",
       "      <td>6838</td>\n",
       "      <td>bfbf7a2b7ac635e67877b1ab87fd6629</td>\n",
       "      <td>endtext.png</td>\n",
       "      <td>cta.png</td>\n",
       "      <td>_preview.png</td>\n",
       "      <td>104.0</td>\n",
       "      <td>215.0</td>\n",
       "      <td>404.0</td>\n",
       "      <td>...</td>\n",
       "      <td>engagement_instruction.png</td>\n",
       "      <td>_preview.png</td>\n",
       "      <td>60.0</td>\n",
       "      <td>185.0</td>\n",
       "      <td>526.0</td>\n",
       "      <td>262.0</td>\n",
       "      <td>77.0</td>\n",
       "      <td>466.0</td>\n",
       "      <td>900.0</td>\n",
       "      <td>600.0</td>\n",
       "    </tr>\n",
       "    <tr>\n",
       "      <th>1</th>\n",
       "      <td>#F9FFFF</td>\n",
       "      <td>(249, 255, 255)</td>\n",
       "      <td>61593</td>\n",
       "      <td>bfbf7a2b7ac635e67877b1ab87fd6629</td>\n",
       "      <td>landing_2.jpg</td>\n",
       "      <td>cta.png</td>\n",
       "      <td>_preview.png</td>\n",
       "      <td>104.0</td>\n",
       "      <td>215.0</td>\n",
       "      <td>404.0</td>\n",
       "      <td>...</td>\n",
       "      <td>engagement_instruction.png</td>\n",
       "      <td>_preview.png</td>\n",
       "      <td>60.0</td>\n",
       "      <td>185.0</td>\n",
       "      <td>526.0</td>\n",
       "      <td>262.0</td>\n",
       "      <td>77.0</td>\n",
       "      <td>466.0</td>\n",
       "      <td>900.0</td>\n",
       "      <td>600.0</td>\n",
       "    </tr>\n",
       "    <tr>\n",
       "      <th>2</th>\n",
       "      <td>#C4D8D9</td>\n",
       "      <td>(196, 216, 217)</td>\n",
       "      <td>40416</td>\n",
       "      <td>bfbf7a2b7ac635e67877b1ab87fd6629</td>\n",
       "      <td>landing_2.jpg</td>\n",
       "      <td>cta.png</td>\n",
       "      <td>_preview.png</td>\n",
       "      <td>104.0</td>\n",
       "      <td>215.0</td>\n",
       "      <td>404.0</td>\n",
       "      <td>...</td>\n",
       "      <td>engagement_instruction.png</td>\n",
       "      <td>_preview.png</td>\n",
       "      <td>60.0</td>\n",
       "      <td>185.0</td>\n",
       "      <td>526.0</td>\n",
       "      <td>262.0</td>\n",
       "      <td>77.0</td>\n",
       "      <td>466.0</td>\n",
       "      <td>900.0</td>\n",
       "      <td>600.0</td>\n",
       "    </tr>\n",
       "    <tr>\n",
       "      <th>3</th>\n",
       "      <td>#615B5D</td>\n",
       "      <td>(97, 91, 93)</td>\n",
       "      <td>24738</td>\n",
       "      <td>bfbf7a2b7ac635e67877b1ab87fd6629</td>\n",
       "      <td>landing_2.jpg</td>\n",
       "      <td>cta.png</td>\n",
       "      <td>_preview.png</td>\n",
       "      <td>104.0</td>\n",
       "      <td>215.0</td>\n",
       "      <td>404.0</td>\n",
       "      <td>...</td>\n",
       "      <td>engagement_instruction.png</td>\n",
       "      <td>_preview.png</td>\n",
       "      <td>60.0</td>\n",
       "      <td>185.0</td>\n",
       "      <td>526.0</td>\n",
       "      <td>262.0</td>\n",
       "      <td>77.0</td>\n",
       "      <td>466.0</td>\n",
       "      <td>900.0</td>\n",
       "      <td>600.0</td>\n",
       "    </tr>\n",
       "    <tr>\n",
       "      <th>4</th>\n",
       "      <td>#232122</td>\n",
       "      <td>(35, 33, 34)</td>\n",
       "      <td>18858</td>\n",
       "      <td>bfbf7a2b7ac635e67877b1ab87fd6629</td>\n",
       "      <td>landing_2.jpg</td>\n",
       "      <td>cta.png</td>\n",
       "      <td>_preview.png</td>\n",
       "      <td>104.0</td>\n",
       "      <td>215.0</td>\n",
       "      <td>404.0</td>\n",
       "      <td>...</td>\n",
       "      <td>engagement_instruction.png</td>\n",
       "      <td>_preview.png</td>\n",
       "      <td>60.0</td>\n",
       "      <td>185.0</td>\n",
       "      <td>526.0</td>\n",
       "      <td>262.0</td>\n",
       "      <td>77.0</td>\n",
       "      <td>466.0</td>\n",
       "      <td>900.0</td>\n",
       "      <td>600.0</td>\n",
       "    </tr>\n",
       "  </tbody>\n",
       "</table>\n",
       "<p>5 rows × 25 columns</p>\n",
       "</div>"
      ],
      "text/plain": [
       "    c_code              rgb  occurrence                            Assets  \\\n",
       "0  #000000        (0, 0, 0)        6838  bfbf7a2b7ac635e67877b1ab87fd6629   \n",
       "1  #F9FFFF  (249, 255, 255)       61593  bfbf7a2b7ac635e67877b1ab87fd6629   \n",
       "2  #C4D8D9  (196, 216, 217)       40416  bfbf7a2b7ac635e67877b1ab87fd6629   \n",
       "3  #615B5D     (97, 91, 93)       24738  bfbf7a2b7ac635e67877b1ab87fd6629   \n",
       "4  #232122     (35, 33, 34)       18858  bfbf7a2b7ac635e67877b1ab87fd6629   \n",
       "\n",
       "       file_name located_image_x  base_image_x  top_left_X_x  top_left_Y_x  \\\n",
       "0    endtext.png         cta.png  _preview.png         104.0         215.0   \n",
       "1  landing_2.jpg         cta.png  _preview.png         104.0         215.0   \n",
       "2  landing_2.jpg         cta.png  _preview.png         104.0         215.0   \n",
       "3  landing_2.jpg         cta.png  _preview.png         104.0         215.0   \n",
       "4  landing_2.jpg         cta.png  _preview.png         104.0         215.0   \n",
       "\n",
       "   bottom_right_X_x  ...             located_image_y  base_image_y  \\\n",
       "0             404.0  ...  engagement_instruction.png  _preview.png   \n",
       "1             404.0  ...  engagement_instruction.png  _preview.png   \n",
       "2             404.0  ...  engagement_instruction.png  _preview.png   \n",
       "3             404.0  ...  engagement_instruction.png  _preview.png   \n",
       "4             404.0  ...  engagement_instruction.png  _preview.png   \n",
       "\n",
       "   top_left_X_y  top_left_Y_y  bottom_right_X_y top_right_Y_y height_y  \\\n",
       "0          60.0         185.0             526.0         262.0     77.0   \n",
       "1          60.0         185.0             526.0         262.0     77.0   \n",
       "2          60.0         185.0             526.0         262.0     77.0   \n",
       "3          60.0         185.0             526.0         262.0     77.0   \n",
       "4          60.0         185.0             526.0         262.0     77.0   \n",
       "\n",
       "   width_y  total_image_height_y  total_image_width_y  \n",
       "0    466.0                 900.0                600.0  \n",
       "1    466.0                 900.0                600.0  \n",
       "2    466.0                 900.0                600.0  \n",
       "3    466.0                 900.0                600.0  \n",
       "4    466.0                 900.0                600.0  \n",
       "\n",
       "[5 rows x 25 columns]"
      ]
     },
     "execution_count": 21,
     "metadata": {},
     "output_type": "execute_result"
    }
   ],
   "source": [
    "merged_df.head()"
   ]
  },
  {
   "cell_type": "code",
   "execution_count": 22,
   "metadata": {},
   "outputs": [
    {
     "name": "stdout",
     "output_type": "stream",
     "text": [
      "<class 'pandas.core.frame.DataFrame'>\n",
      "Int64Index: 67954 entries, 0 to 67953\n",
      "Data columns (total 25 columns):\n",
      " #   Column                Non-Null Count  Dtype  \n",
      "---  ------                --------------  -----  \n",
      " 0   c_code                67954 non-null  object \n",
      " 1   rgb                   67954 non-null  object \n",
      " 2   occurrence            67954 non-null  int64  \n",
      " 3   Assets                67954 non-null  object \n",
      " 4   file_name             67954 non-null  object \n",
      " 5   located_image_x       67954 non-null  object \n",
      " 6   base_image_x          67954 non-null  object \n",
      " 7   top_left_X_x          22611 non-null  float64\n",
      " 8   top_left_Y_x          22611 non-null  float64\n",
      " 9   bottom_right_X_x      22611 non-null  float64\n",
      " 10  top_right_Y_x         22611 non-null  float64\n",
      " 11  height_x              22611 non-null  float64\n",
      " 12  width_x               22611 non-null  float64\n",
      " 13  total_image_height_x  22611 non-null  float64\n",
      " 14  total_image_width_x   22611 non-null  float64\n",
      " 15  located_image_y       67954 non-null  object \n",
      " 16  base_image_y          67954 non-null  object \n",
      " 17  top_left_X_y          16557 non-null  float64\n",
      " 18  top_left_Y_y          16557 non-null  float64\n",
      " 19  bottom_right_X_y      16557 non-null  float64\n",
      " 20  top_right_Y_y         16557 non-null  float64\n",
      " 21  height_y              16557 non-null  float64\n",
      " 22  width_y               16557 non-null  float64\n",
      " 23  total_image_height_y  16557 non-null  float64\n",
      " 24  total_image_width_y   16557 non-null  float64\n",
      "dtypes: float64(16), int64(1), object(8)\n",
      "memory usage: 13.5+ MB\n"
     ]
    }
   ],
   "source": [
    "merged_df.info()"
   ]
  },
  {
   "cell_type": "code",
   "execution_count": 23,
   "metadata": {},
   "outputs": [],
   "source": [
    "perfomance_df.rename(columns={'game_id':'Assets'},inplace=True)"
   ]
  },
  {
   "cell_type": "code",
   "execution_count": 24,
   "metadata": {},
   "outputs": [],
   "source": [
    "features_df = pd.merge(pd.merge(merged_df,logo_pos,on='Assets'),perfomance_df,on='Assets')"
   ]
  },
  {
   "cell_type": "code",
   "execution_count": 25,
   "metadata": {},
   "outputs": [
    {
     "data": {
      "text/html": [
       "<div>\n",
       "<style scoped>\n",
       "    .dataframe tbody tr th:only-of-type {\n",
       "        vertical-align: middle;\n",
       "    }\n",
       "\n",
       "    .dataframe tbody tr th {\n",
       "        vertical-align: top;\n",
       "    }\n",
       "\n",
       "    .dataframe thead th {\n",
       "        text-align: right;\n",
       "    }\n",
       "</style>\n",
       "<table border=\"1\" class=\"dataframe\">\n",
       "  <thead>\n",
       "    <tr style=\"text-align: right;\">\n",
       "      <th></th>\n",
       "      <th>c_code</th>\n",
       "      <th>rgb</th>\n",
       "      <th>occurrence</th>\n",
       "      <th>Assets</th>\n",
       "      <th>file_name</th>\n",
       "      <th>located_image_x</th>\n",
       "      <th>base_image_x</th>\n",
       "      <th>top_left_X_x</th>\n",
       "      <th>top_left_Y_x</th>\n",
       "      <th>bottom_right_X_x</th>\n",
       "      <th>...</th>\n",
       "      <th>top_left_X</th>\n",
       "      <th>top_left_Y</th>\n",
       "      <th>bottom_right_X</th>\n",
       "      <th>top_right_Y</th>\n",
       "      <th>height</th>\n",
       "      <th>width</th>\n",
       "      <th>total_image_height</th>\n",
       "      <th>total_image_width</th>\n",
       "      <th>ER</th>\n",
       "      <th>CTR</th>\n",
       "    </tr>\n",
       "  </thead>\n",
       "  <tbody>\n",
       "    <tr>\n",
       "      <th>0</th>\n",
       "      <td>#000000</td>\n",
       "      <td>(0, 0, 0)</td>\n",
       "      <td>6838</td>\n",
       "      <td>bfbf7a2b7ac635e67877b1ab87fd6629</td>\n",
       "      <td>endtext.png</td>\n",
       "      <td>cta.png</td>\n",
       "      <td>_preview.png</td>\n",
       "      <td>104.0</td>\n",
       "      <td>215.0</td>\n",
       "      <td>404.0</td>\n",
       "      <td>...</td>\n",
       "      <td>NaN</td>\n",
       "      <td>NaN</td>\n",
       "      <td>NaN</td>\n",
       "      <td>NaN</td>\n",
       "      <td>NaN</td>\n",
       "      <td>NaN</td>\n",
       "      <td>NaN</td>\n",
       "      <td>NaN</td>\n",
       "      <td>0.209269</td>\n",
       "      <td>0.058438</td>\n",
       "    </tr>\n",
       "    <tr>\n",
       "      <th>1</th>\n",
       "      <td>#F9FFFF</td>\n",
       "      <td>(249, 255, 255)</td>\n",
       "      <td>61593</td>\n",
       "      <td>bfbf7a2b7ac635e67877b1ab87fd6629</td>\n",
       "      <td>landing_2.jpg</td>\n",
       "      <td>cta.png</td>\n",
       "      <td>_preview.png</td>\n",
       "      <td>104.0</td>\n",
       "      <td>215.0</td>\n",
       "      <td>404.0</td>\n",
       "      <td>...</td>\n",
       "      <td>NaN</td>\n",
       "      <td>NaN</td>\n",
       "      <td>NaN</td>\n",
       "      <td>NaN</td>\n",
       "      <td>NaN</td>\n",
       "      <td>NaN</td>\n",
       "      <td>NaN</td>\n",
       "      <td>NaN</td>\n",
       "      <td>0.209269</td>\n",
       "      <td>0.058438</td>\n",
       "    </tr>\n",
       "    <tr>\n",
       "      <th>2</th>\n",
       "      <td>#C4D8D9</td>\n",
       "      <td>(196, 216, 217)</td>\n",
       "      <td>40416</td>\n",
       "      <td>bfbf7a2b7ac635e67877b1ab87fd6629</td>\n",
       "      <td>landing_2.jpg</td>\n",
       "      <td>cta.png</td>\n",
       "      <td>_preview.png</td>\n",
       "      <td>104.0</td>\n",
       "      <td>215.0</td>\n",
       "      <td>404.0</td>\n",
       "      <td>...</td>\n",
       "      <td>NaN</td>\n",
       "      <td>NaN</td>\n",
       "      <td>NaN</td>\n",
       "      <td>NaN</td>\n",
       "      <td>NaN</td>\n",
       "      <td>NaN</td>\n",
       "      <td>NaN</td>\n",
       "      <td>NaN</td>\n",
       "      <td>0.209269</td>\n",
       "      <td>0.058438</td>\n",
       "    </tr>\n",
       "    <tr>\n",
       "      <th>3</th>\n",
       "      <td>#615B5D</td>\n",
       "      <td>(97, 91, 93)</td>\n",
       "      <td>24738</td>\n",
       "      <td>bfbf7a2b7ac635e67877b1ab87fd6629</td>\n",
       "      <td>landing_2.jpg</td>\n",
       "      <td>cta.png</td>\n",
       "      <td>_preview.png</td>\n",
       "      <td>104.0</td>\n",
       "      <td>215.0</td>\n",
       "      <td>404.0</td>\n",
       "      <td>...</td>\n",
       "      <td>NaN</td>\n",
       "      <td>NaN</td>\n",
       "      <td>NaN</td>\n",
       "      <td>NaN</td>\n",
       "      <td>NaN</td>\n",
       "      <td>NaN</td>\n",
       "      <td>NaN</td>\n",
       "      <td>NaN</td>\n",
       "      <td>0.209269</td>\n",
       "      <td>0.058438</td>\n",
       "    </tr>\n",
       "    <tr>\n",
       "      <th>4</th>\n",
       "      <td>#232122</td>\n",
       "      <td>(35, 33, 34)</td>\n",
       "      <td>18858</td>\n",
       "      <td>bfbf7a2b7ac635e67877b1ab87fd6629</td>\n",
       "      <td>landing_2.jpg</td>\n",
       "      <td>cta.png</td>\n",
       "      <td>_preview.png</td>\n",
       "      <td>104.0</td>\n",
       "      <td>215.0</td>\n",
       "      <td>404.0</td>\n",
       "      <td>...</td>\n",
       "      <td>NaN</td>\n",
       "      <td>NaN</td>\n",
       "      <td>NaN</td>\n",
       "      <td>NaN</td>\n",
       "      <td>NaN</td>\n",
       "      <td>NaN</td>\n",
       "      <td>NaN</td>\n",
       "      <td>NaN</td>\n",
       "      <td>0.209269</td>\n",
       "      <td>0.058438</td>\n",
       "    </tr>\n",
       "  </tbody>\n",
       "</table>\n",
       "<p>5 rows × 37 columns</p>\n",
       "</div>"
      ],
      "text/plain": [
       "    c_code              rgb  occurrence                            Assets  \\\n",
       "0  #000000        (0, 0, 0)        6838  bfbf7a2b7ac635e67877b1ab87fd6629   \n",
       "1  #F9FFFF  (249, 255, 255)       61593  bfbf7a2b7ac635e67877b1ab87fd6629   \n",
       "2  #C4D8D9  (196, 216, 217)       40416  bfbf7a2b7ac635e67877b1ab87fd6629   \n",
       "3  #615B5D     (97, 91, 93)       24738  bfbf7a2b7ac635e67877b1ab87fd6629   \n",
       "4  #232122     (35, 33, 34)       18858  bfbf7a2b7ac635e67877b1ab87fd6629   \n",
       "\n",
       "       file_name located_image_x  base_image_x  top_left_X_x  top_left_Y_x  \\\n",
       "0    endtext.png         cta.png  _preview.png         104.0         215.0   \n",
       "1  landing_2.jpg         cta.png  _preview.png         104.0         215.0   \n",
       "2  landing_2.jpg         cta.png  _preview.png         104.0         215.0   \n",
       "3  landing_2.jpg         cta.png  _preview.png         104.0         215.0   \n",
       "4  landing_2.jpg         cta.png  _preview.png         104.0         215.0   \n",
       "\n",
       "   bottom_right_X_x  ...  top_left_X  top_left_Y  bottom_right_X  top_right_Y  \\\n",
       "0             404.0  ...         NaN         NaN             NaN          NaN   \n",
       "1             404.0  ...         NaN         NaN             NaN          NaN   \n",
       "2             404.0  ...         NaN         NaN             NaN          NaN   \n",
       "3             404.0  ...         NaN         NaN             NaN          NaN   \n",
       "4             404.0  ...         NaN         NaN             NaN          NaN   \n",
       "\n",
       "   height width total_image_height  total_image_width        ER       CTR  \n",
       "0     NaN   NaN                NaN                NaN  0.209269  0.058438  \n",
       "1     NaN   NaN                NaN                NaN  0.209269  0.058438  \n",
       "2     NaN   NaN                NaN                NaN  0.209269  0.058438  \n",
       "3     NaN   NaN                NaN                NaN  0.209269  0.058438  \n",
       "4     NaN   NaN                NaN                NaN  0.209269  0.058438  \n",
       "\n",
       "[5 rows x 37 columns]"
      ]
     },
     "execution_count": 25,
     "metadata": {},
     "output_type": "execute_result"
    }
   ],
   "source": [
    "features_df.head()"
   ]
  },
  {
   "cell_type": "code",
   "execution_count": 26,
   "metadata": {},
   "outputs": [
    {
     "data": {
      "text/plain": [
       "(67954, 37)"
      ]
     },
     "execution_count": 26,
     "metadata": {},
     "output_type": "execute_result"
    }
   ],
   "source": [
    "features_df.shape"
   ]
  },
  {
   "cell_type": "code",
   "execution_count": 27,
   "metadata": {},
   "outputs": [
    {
     "name": "stdout",
     "output_type": "stream",
     "text": [
      "<class 'pandas.core.frame.DataFrame'>\n",
      "Int64Index: 67954 entries, 0 to 67953\n",
      "Data columns (total 37 columns):\n",
      " #   Column                Non-Null Count  Dtype  \n",
      "---  ------                --------------  -----  \n",
      " 0   c_code                67954 non-null  object \n",
      " 1   rgb                   67954 non-null  object \n",
      " 2   occurrence            67954 non-null  int64  \n",
      " 3   Assets                67954 non-null  object \n",
      " 4   file_name             67954 non-null  object \n",
      " 5   located_image_x       67954 non-null  object \n",
      " 6   base_image_x          67954 non-null  object \n",
      " 7   top_left_X_x          22611 non-null  float64\n",
      " 8   top_left_Y_x          22611 non-null  float64\n",
      " 9   bottom_right_X_x      22611 non-null  float64\n",
      " 10  top_right_Y_x         22611 non-null  float64\n",
      " 11  height_x              22611 non-null  float64\n",
      " 12  width_x               22611 non-null  float64\n",
      " 13  total_image_height_x  22611 non-null  float64\n",
      " 14  total_image_width_x   22611 non-null  float64\n",
      " 15  located_image_y       67954 non-null  object \n",
      " 16  base_image_y          67954 non-null  object \n",
      " 17  top_left_X_y          16557 non-null  float64\n",
      " 18  top_left_Y_y          16557 non-null  float64\n",
      " 19  bottom_right_X_y      16557 non-null  float64\n",
      " 20  top_right_Y_y         16557 non-null  float64\n",
      " 21  height_y              16557 non-null  float64\n",
      " 22  width_y               16557 non-null  float64\n",
      " 23  total_image_height_y  16557 non-null  float64\n",
      " 24  total_image_width_y   16557 non-null  float64\n",
      " 25  located_image         67954 non-null  object \n",
      " 26  base_image            67954 non-null  object \n",
      " 27  top_left_X            10465 non-null  float64\n",
      " 28  top_left_Y            10465 non-null  float64\n",
      " 29  bottom_right_X        10465 non-null  float64\n",
      " 30  top_right_Y           10465 non-null  float64\n",
      " 31  height                10465 non-null  float64\n",
      " 32  width                 10465 non-null  float64\n",
      " 33  total_image_height    10465 non-null  float64\n",
      " 34  total_image_width     10465 non-null  float64\n",
      " 35  ER                    67954 non-null  float64\n",
      " 36  CTR                   67954 non-null  float64\n",
      "dtypes: float64(26), int64(1), object(10)\n",
      "memory usage: 19.7+ MB\n"
     ]
    }
   ],
   "source": [
    "features_df.info()"
   ]
  },
  {
   "cell_type": "code",
   "execution_count": null,
   "metadata": {},
   "outputs": [],
   "source": []
  },
  {
   "cell_type": "code",
   "execution_count": 28,
   "metadata": {},
   "outputs": [
    {
     "data": {
      "text/plain": [
       "37"
      ]
     },
     "execution_count": 28,
     "metadata": {},
     "output_type": "execute_result"
    }
   ],
   "source": [
    "features_df.columns.nunique()"
   ]
  },
  {
   "cell_type": "code",
   "execution_count": 29,
   "metadata": {},
   "outputs": [
    {
     "data": {
      "text/plain": [
       "c_code                      0\n",
       "rgb                         0\n",
       "occurrence                  0\n",
       "Assets                      0\n",
       "file_name                   0\n",
       "located_image_x             0\n",
       "base_image_x                0\n",
       "top_left_X_x            45343\n",
       "top_left_Y_x            45343\n",
       "bottom_right_X_x        45343\n",
       "top_right_Y_x           45343\n",
       "height_x                45343\n",
       "width_x                 45343\n",
       "total_image_height_x    45343\n",
       "total_image_width_x     45343\n",
       "located_image_y             0\n",
       "base_image_y                0\n",
       "top_left_X_y            51397\n",
       "top_left_Y_y            51397\n",
       "bottom_right_X_y        51397\n",
       "top_right_Y_y           51397\n",
       "height_y                51397\n",
       "width_y                 51397\n",
       "total_image_height_y    51397\n",
       "total_image_width_y     51397\n",
       "located_image               0\n",
       "base_image                  0\n",
       "top_left_X              57489\n",
       "top_left_Y              57489\n",
       "bottom_right_X          57489\n",
       "top_right_Y             57489\n",
       "height                  57489\n",
       "width                   57489\n",
       "total_image_height      57489\n",
       "total_image_width       57489\n",
       "ER                          0\n",
       "CTR                         0\n",
       "dtype: int64"
      ]
     },
     "execution_count": 29,
     "metadata": {},
     "output_type": "execute_result"
    }
   ],
   "source": [
    "features_df.isnull().sum()"
   ]
  },
  {
   "cell_type": "code",
   "execution_count": 30,
   "metadata": {},
   "outputs": [
    {
     "data": {
      "text/plain": [
       "(67954, 37)"
      ]
     },
     "execution_count": 30,
     "metadata": {},
     "output_type": "execute_result"
    }
   ],
   "source": [
    "features_df.shape"
   ]
  },
  {
   "cell_type": "code",
   "execution_count": 31,
   "metadata": {},
   "outputs": [
    {
     "data": {
      "text/plain": [
       "Index(['c_code', 'rgb', 'occurrence', 'Assets', 'file_name', 'located_image_x',\n",
       "       'base_image_x', 'top_left_X_x', 'top_left_Y_x', 'bottom_right_X_x',\n",
       "       'top_right_Y_x', 'height_x', 'width_x', 'total_image_height_x',\n",
       "       'total_image_width_x', 'located_image_y', 'base_image_y',\n",
       "       'top_left_X_y', 'top_left_Y_y', 'bottom_right_X_y', 'top_right_Y_y',\n",
       "       'height_y', 'width_y', 'total_image_height_y', 'total_image_width_y',\n",
       "       'located_image', 'base_image', 'top_left_X', 'top_left_Y',\n",
       "       'bottom_right_X', 'top_right_Y', 'height', 'width',\n",
       "       'total_image_height', 'total_image_width', 'ER', 'CTR'],\n",
       "      dtype='object')"
      ]
     },
     "execution_count": 31,
     "metadata": {},
     "output_type": "execute_result"
    }
   ],
   "source": [
    "features_df.columns"
   ]
  },
  {
   "cell_type": "code",
   "execution_count": 32,
   "metadata": {},
   "outputs": [],
   "source": [
    "def drop_nulls(df):\n",
    "    return df.dropna()"
   ]
  },
  {
   "cell_type": "code",
   "execution_count": 33,
   "metadata": {},
   "outputs": [],
   "source": [
    "clean_df = drop_nulls(features_df)"
   ]
  },
  {
   "cell_type": "code",
   "execution_count": 34,
   "metadata": {},
   "outputs": [
    {
     "data": {
      "text/plain": [
       "(9103, 37)"
      ]
     },
     "execution_count": 34,
     "metadata": {},
     "output_type": "execute_result"
    }
   ],
   "source": [
    "clean_df.shape"
   ]
  },
  {
   "cell_type": "code",
   "execution_count": 35,
   "metadata": {},
   "outputs": [
    {
     "data": {
      "text/plain": [
       "c_code                  0\n",
       "rgb                     0\n",
       "occurrence              0\n",
       "Assets                  0\n",
       "file_name               0\n",
       "located_image_x         0\n",
       "base_image_x            0\n",
       "top_left_X_x            0\n",
       "top_left_Y_x            0\n",
       "bottom_right_X_x        0\n",
       "top_right_Y_x           0\n",
       "height_x                0\n",
       "width_x                 0\n",
       "total_image_height_x    0\n",
       "total_image_width_x     0\n",
       "located_image_y         0\n",
       "base_image_y            0\n",
       "top_left_X_y            0\n",
       "top_left_Y_y            0\n",
       "bottom_right_X_y        0\n",
       "top_right_Y_y           0\n",
       "height_y                0\n",
       "width_y                 0\n",
       "total_image_height_y    0\n",
       "total_image_width_y     0\n",
       "located_image           0\n",
       "base_image              0\n",
       "top_left_X              0\n",
       "top_left_Y              0\n",
       "bottom_right_X          0\n",
       "top_right_Y             0\n",
       "height                  0\n",
       "width                   0\n",
       "total_image_height      0\n",
       "total_image_width       0\n",
       "ER                      0\n",
       "CTR                     0\n",
       "dtype: int64"
      ]
     },
     "execution_count": 35,
     "metadata": {},
     "output_type": "execute_result"
    }
   ],
   "source": [
    "clean_df.isnull().sum()"
   ]
  },
  {
   "cell_type": "code",
   "execution_count": 36,
   "metadata": {},
   "outputs": [
    {
     "data": {
      "text/html": [
       "<div>\n",
       "<style scoped>\n",
       "    .dataframe tbody tr th:only-of-type {\n",
       "        vertical-align: middle;\n",
       "    }\n",
       "\n",
       "    .dataframe tbody tr th {\n",
       "        vertical-align: top;\n",
       "    }\n",
       "\n",
       "    .dataframe thead th {\n",
       "        text-align: right;\n",
       "    }\n",
       "</style>\n",
       "<table border=\"1\" class=\"dataframe\">\n",
       "  <thead>\n",
       "    <tr style=\"text-align: right;\">\n",
       "      <th></th>\n",
       "      <th>c_code</th>\n",
       "      <th>rgb</th>\n",
       "      <th>occurrence</th>\n",
       "      <th>Assets</th>\n",
       "      <th>file_name</th>\n",
       "      <th>located_image_x</th>\n",
       "      <th>base_image_x</th>\n",
       "      <th>top_left_X_x</th>\n",
       "      <th>top_left_Y_x</th>\n",
       "      <th>bottom_right_X_x</th>\n",
       "      <th>...</th>\n",
       "      <th>top_left_X</th>\n",
       "      <th>top_left_Y</th>\n",
       "      <th>bottom_right_X</th>\n",
       "      <th>top_right_Y</th>\n",
       "      <th>height</th>\n",
       "      <th>width</th>\n",
       "      <th>total_image_height</th>\n",
       "      <th>total_image_width</th>\n",
       "      <th>ER</th>\n",
       "      <th>CTR</th>\n",
       "    </tr>\n",
       "  </thead>\n",
       "  <tbody>\n",
       "    <tr>\n",
       "      <th>174</th>\n",
       "      <td>#000000</td>\n",
       "      <td>(0, 0, 0)</td>\n",
       "      <td>40196</td>\n",
       "      <td>84327cf26d2a91e2730ae7ddbfca6d59</td>\n",
       "      <td>logo.png</td>\n",
       "      <td>video-cta.png</td>\n",
       "      <td>_preview.png</td>\n",
       "      <td>87.0</td>\n",
       "      <td>136.0</td>\n",
       "      <td>491.0</td>\n",
       "      <td>...</td>\n",
       "      <td>89.0</td>\n",
       "      <td>6.0</td>\n",
       "      <td>511.0</td>\n",
       "      <td>202.0</td>\n",
       "      <td>196.0</td>\n",
       "      <td>422.0</td>\n",
       "      <td>900.0</td>\n",
       "      <td>600.0</td>\n",
       "      <td>0.037748</td>\n",
       "      <td>0.004508</td>\n",
       "    </tr>\n",
       "    <tr>\n",
       "      <th>175</th>\n",
       "      <td>#FCF7D7</td>\n",
       "      <td>(252, 247, 215)</td>\n",
       "      <td>7034</td>\n",
       "      <td>84327cf26d2a91e2730ae7ddbfca6d59</td>\n",
       "      <td>logo.png</td>\n",
       "      <td>video-cta.png</td>\n",
       "      <td>_preview.png</td>\n",
       "      <td>87.0</td>\n",
       "      <td>136.0</td>\n",
       "      <td>491.0</td>\n",
       "      <td>...</td>\n",
       "      <td>89.0</td>\n",
       "      <td>6.0</td>\n",
       "      <td>511.0</td>\n",
       "      <td>202.0</td>\n",
       "      <td>196.0</td>\n",
       "      <td>422.0</td>\n",
       "      <td>900.0</td>\n",
       "      <td>600.0</td>\n",
       "      <td>0.037748</td>\n",
       "      <td>0.004508</td>\n",
       "    </tr>\n",
       "    <tr>\n",
       "      <th>176</th>\n",
       "      <td>#3F220C</td>\n",
       "      <td>(63, 34, 12)</td>\n",
       "      <td>1458</td>\n",
       "      <td>84327cf26d2a91e2730ae7ddbfca6d59</td>\n",
       "      <td>logo.png</td>\n",
       "      <td>video-cta.png</td>\n",
       "      <td>_preview.png</td>\n",
       "      <td>87.0</td>\n",
       "      <td>136.0</td>\n",
       "      <td>491.0</td>\n",
       "      <td>...</td>\n",
       "      <td>89.0</td>\n",
       "      <td>6.0</td>\n",
       "      <td>511.0</td>\n",
       "      <td>202.0</td>\n",
       "      <td>196.0</td>\n",
       "      <td>422.0</td>\n",
       "      <td>900.0</td>\n",
       "      <td>600.0</td>\n",
       "      <td>0.037748</td>\n",
       "      <td>0.004508</td>\n",
       "    </tr>\n",
       "    <tr>\n",
       "      <th>219</th>\n",
       "      <td>#153E8C</td>\n",
       "      <td>(21, 62, 140)</td>\n",
       "      <td>32786</td>\n",
       "      <td>bb631902fce625cf0dc87d80c027c905</td>\n",
       "      <td>logo.png</td>\n",
       "      <td>end-cta.png</td>\n",
       "      <td>_preview.png</td>\n",
       "      <td>213.0</td>\n",
       "      <td>148.0</td>\n",
       "      <td>560.0</td>\n",
       "      <td>...</td>\n",
       "      <td>0.0</td>\n",
       "      <td>0.0</td>\n",
       "      <td>600.0</td>\n",
       "      <td>900.0</td>\n",
       "      <td>900.0</td>\n",
       "      <td>600.0</td>\n",
       "      <td>900.0</td>\n",
       "      <td>600.0</td>\n",
       "      <td>0.067083</td>\n",
       "      <td>0.012776</td>\n",
       "    </tr>\n",
       "    <tr>\n",
       "      <th>220</th>\n",
       "      <td>#1E61A9</td>\n",
       "      <td>(30, 97, 169)</td>\n",
       "      <td>18174</td>\n",
       "      <td>bb631902fce625cf0dc87d80c027c905</td>\n",
       "      <td>logo.png</td>\n",
       "      <td>end-cta.png</td>\n",
       "      <td>_preview.png</td>\n",
       "      <td>213.0</td>\n",
       "      <td>148.0</td>\n",
       "      <td>560.0</td>\n",
       "      <td>...</td>\n",
       "      <td>0.0</td>\n",
       "      <td>0.0</td>\n",
       "      <td>600.0</td>\n",
       "      <td>900.0</td>\n",
       "      <td>900.0</td>\n",
       "      <td>600.0</td>\n",
       "      <td>900.0</td>\n",
       "      <td>600.0</td>\n",
       "      <td>0.067083</td>\n",
       "      <td>0.012776</td>\n",
       "    </tr>\n",
       "  </tbody>\n",
       "</table>\n",
       "<p>5 rows × 37 columns</p>\n",
       "</div>"
      ],
      "text/plain": [
       "      c_code              rgb  occurrence                            Assets  \\\n",
       "174  #000000        (0, 0, 0)       40196  84327cf26d2a91e2730ae7ddbfca6d59   \n",
       "175  #FCF7D7  (252, 247, 215)        7034  84327cf26d2a91e2730ae7ddbfca6d59   \n",
       "176  #3F220C     (63, 34, 12)        1458  84327cf26d2a91e2730ae7ddbfca6d59   \n",
       "219  #153E8C    (21, 62, 140)       32786  bb631902fce625cf0dc87d80c027c905   \n",
       "220  #1E61A9    (30, 97, 169)       18174  bb631902fce625cf0dc87d80c027c905   \n",
       "\n",
       "    file_name located_image_x  base_image_x  top_left_X_x  top_left_Y_x  \\\n",
       "174  logo.png   video-cta.png  _preview.png          87.0         136.0   \n",
       "175  logo.png   video-cta.png  _preview.png          87.0         136.0   \n",
       "176  logo.png   video-cta.png  _preview.png          87.0         136.0   \n",
       "219  logo.png     end-cta.png  _preview.png         213.0         148.0   \n",
       "220  logo.png     end-cta.png  _preview.png         213.0         148.0   \n",
       "\n",
       "     bottom_right_X_x  ...  top_left_X  top_left_Y  bottom_right_X  \\\n",
       "174             491.0  ...        89.0         6.0           511.0   \n",
       "175             491.0  ...        89.0         6.0           511.0   \n",
       "176             491.0  ...        89.0         6.0           511.0   \n",
       "219             560.0  ...         0.0         0.0           600.0   \n",
       "220             560.0  ...         0.0         0.0           600.0   \n",
       "\n",
       "     top_right_Y  height  width total_image_height  total_image_width  \\\n",
       "174        202.0   196.0  422.0              900.0              600.0   \n",
       "175        202.0   196.0  422.0              900.0              600.0   \n",
       "176        202.0   196.0  422.0              900.0              600.0   \n",
       "219        900.0   900.0  600.0              900.0              600.0   \n",
       "220        900.0   900.0  600.0              900.0              600.0   \n",
       "\n",
       "           ER       CTR  \n",
       "174  0.037748  0.004508  \n",
       "175  0.037748  0.004508  \n",
       "176  0.037748  0.004508  \n",
       "219  0.067083  0.012776  \n",
       "220  0.067083  0.012776  \n",
       "\n",
       "[5 rows x 37 columns]"
      ]
     },
     "execution_count": 36,
     "metadata": {},
     "output_type": "execute_result"
    }
   ],
   "source": [
    "clean_df.head()"
   ]
  },
  {
   "cell_type": "code",
   "execution_count": 37,
   "metadata": {},
   "outputs": [],
   "source": [
    "# plt.hist(features_df)"
   ]
  },
  {
   "cell_type": "code",
   "execution_count": 47,
   "metadata": {},
   "outputs": [
    {
     "ename": "AttributeError",
     "evalue": "'str' object has no attribute 'removeprefix'",
     "output_type": "error",
     "traceback": [
      "\u001b[0;31m---------------------------------------------------------------------------\u001b[0m",
      "\u001b[0;31mAttributeError\u001b[0m                            Traceback (most recent call last)",
      "Cell \u001b[0;32mIn [47], line 1\u001b[0m\n\u001b[0;32m----> 1\u001b[0m clean_df[\u001b[39m'\u001b[39m\u001b[39mred\u001b[39m\u001b[39m'\u001b[39m] \u001b[39m=\u001b[39m clean_df[\u001b[39m'\u001b[39;49m\u001b[39mrgb\u001b[39;49m\u001b[39m'\u001b[39;49m]\u001b[39m.\u001b[39;49mapply(\u001b[39mlambda\u001b[39;49;00m x: \u001b[39mstr\u001b[39;49m(x)\u001b[39m.\u001b[39;49msplit(\u001b[39m'\u001b[39;49m\u001b[39m,\u001b[39;49m\u001b[39m'\u001b[39;49m)[\u001b[39m0\u001b[39;49m]\u001b[39m.\u001b[39;49mremoveprefix(\u001b[39m'\u001b[39;49m\u001b[39m(\u001b[39;49m\u001b[39m'\u001b[39;49m))\n\u001b[1;32m      2\u001b[0m clean_df[\u001b[39m'\u001b[39m\u001b[39mgreen\u001b[39m\u001b[39m'\u001b[39m] \u001b[39m=\u001b[39m clean_df[\u001b[39m'\u001b[39m\u001b[39mrgb\u001b[39m\u001b[39m'\u001b[39m]\u001b[39m.\u001b[39mapply(\u001b[39mlambda\u001b[39;00m x: \u001b[39mstr\u001b[39m(x)\u001b[39m.\u001b[39msplit(\u001b[39m'\u001b[39m\u001b[39m,\u001b[39m\u001b[39m'\u001b[39m)[\u001b[39m1\u001b[39m])\n\u001b[1;32m      3\u001b[0m clean_df[\u001b[39m'\u001b[39m\u001b[39mblue\u001b[39m\u001b[39m'\u001b[39m] \u001b[39m=\u001b[39m clean_df[\u001b[39m'\u001b[39m\u001b[39mrgb\u001b[39m\u001b[39m'\u001b[39m]\u001b[39m.\u001b[39mapply(\u001b[39mlambda\u001b[39;00m x: \u001b[39mstr\u001b[39m(x)\u001b[39m.\u001b[39msplit(\u001b[39m'\u001b[39m\u001b[39m,\u001b[39m\u001b[39m'\u001b[39m)[\u001b[39m2\u001b[39m]\u001b[39m.\u001b[39mremovesuffix(\u001b[39m'\u001b[39m\u001b[39m)\u001b[39m\u001b[39m'\u001b[39m))\n",
      "File \u001b[0;32m~/project/ad_optimisation/venv/lib/python3.8/site-packages/pandas/core/series.py:4771\u001b[0m, in \u001b[0;36mSeries.apply\u001b[0;34m(self, func, convert_dtype, args, **kwargs)\u001b[0m\n\u001b[1;32m   4661\u001b[0m \u001b[39mdef\u001b[39;00m \u001b[39mapply\u001b[39m(\n\u001b[1;32m   4662\u001b[0m     \u001b[39mself\u001b[39m,\n\u001b[1;32m   4663\u001b[0m     func: AggFuncType,\n\u001b[0;32m   (...)\u001b[0m\n\u001b[1;32m   4666\u001b[0m     \u001b[39m*\u001b[39m\u001b[39m*\u001b[39mkwargs,\n\u001b[1;32m   4667\u001b[0m ) \u001b[39m-\u001b[39m\u001b[39m>\u001b[39m DataFrame \u001b[39m|\u001b[39m Series:\n\u001b[1;32m   4668\u001b[0m     \u001b[39m\"\"\"\u001b[39;00m\n\u001b[1;32m   4669\u001b[0m \u001b[39m    Invoke function on values of Series.\u001b[39;00m\n\u001b[1;32m   4670\u001b[0m \n\u001b[0;32m   (...)\u001b[0m\n\u001b[1;32m   4769\u001b[0m \u001b[39m    dtype: float64\u001b[39;00m\n\u001b[1;32m   4770\u001b[0m \u001b[39m    \"\"\"\u001b[39;00m\n\u001b[0;32m-> 4771\u001b[0m     \u001b[39mreturn\u001b[39;00m SeriesApply(\u001b[39mself\u001b[39;49m, func, convert_dtype, args, kwargs)\u001b[39m.\u001b[39;49mapply()\n",
      "File \u001b[0;32m~/project/ad_optimisation/venv/lib/python3.8/site-packages/pandas/core/apply.py:1105\u001b[0m, in \u001b[0;36mSeriesApply.apply\u001b[0;34m(self)\u001b[0m\n\u001b[1;32m   1102\u001b[0m     \u001b[39mreturn\u001b[39;00m \u001b[39mself\u001b[39m\u001b[39m.\u001b[39mapply_str()\n\u001b[1;32m   1104\u001b[0m \u001b[39m# self.f is Callable\u001b[39;00m\n\u001b[0;32m-> 1105\u001b[0m \u001b[39mreturn\u001b[39;00m \u001b[39mself\u001b[39;49m\u001b[39m.\u001b[39;49mapply_standard()\n",
      "File \u001b[0;32m~/project/ad_optimisation/venv/lib/python3.8/site-packages/pandas/core/apply.py:1156\u001b[0m, in \u001b[0;36mSeriesApply.apply_standard\u001b[0;34m(self)\u001b[0m\n\u001b[1;32m   1154\u001b[0m     \u001b[39melse\u001b[39;00m:\n\u001b[1;32m   1155\u001b[0m         values \u001b[39m=\u001b[39m obj\u001b[39m.\u001b[39mastype(\u001b[39mobject\u001b[39m)\u001b[39m.\u001b[39m_values\n\u001b[0;32m-> 1156\u001b[0m         mapped \u001b[39m=\u001b[39m lib\u001b[39m.\u001b[39;49mmap_infer(\n\u001b[1;32m   1157\u001b[0m             values,\n\u001b[1;32m   1158\u001b[0m             f,\n\u001b[1;32m   1159\u001b[0m             convert\u001b[39m=\u001b[39;49m\u001b[39mself\u001b[39;49m\u001b[39m.\u001b[39;49mconvert_dtype,\n\u001b[1;32m   1160\u001b[0m         )\n\u001b[1;32m   1162\u001b[0m \u001b[39mif\u001b[39;00m \u001b[39mlen\u001b[39m(mapped) \u001b[39mand\u001b[39;00m \u001b[39misinstance\u001b[39m(mapped[\u001b[39m0\u001b[39m], ABCSeries):\n\u001b[1;32m   1163\u001b[0m     \u001b[39m# GH#43986 Need to do list(mapped) in order to get treated as nested\u001b[39;00m\n\u001b[1;32m   1164\u001b[0m     \u001b[39m#  See also GH#25959 regarding EA support\u001b[39;00m\n\u001b[1;32m   1165\u001b[0m     \u001b[39mreturn\u001b[39;00m obj\u001b[39m.\u001b[39m_constructor_expanddim(\u001b[39mlist\u001b[39m(mapped), index\u001b[39m=\u001b[39mobj\u001b[39m.\u001b[39mindex)\n",
      "File \u001b[0;32m~/project/ad_optimisation/venv/lib/python3.8/site-packages/pandas/_libs/lib.pyx:2918\u001b[0m, in \u001b[0;36mpandas._libs.lib.map_infer\u001b[0;34m()\u001b[0m\n",
      "Cell \u001b[0;32mIn [47], line 1\u001b[0m, in \u001b[0;36m<lambda>\u001b[0;34m(x)\u001b[0m\n\u001b[0;32m----> 1\u001b[0m clean_df[\u001b[39m'\u001b[39m\u001b[39mred\u001b[39m\u001b[39m'\u001b[39m] \u001b[39m=\u001b[39m clean_df[\u001b[39m'\u001b[39m\u001b[39mrgb\u001b[39m\u001b[39m'\u001b[39m]\u001b[39m.\u001b[39mapply(\u001b[39mlambda\u001b[39;00m x: \u001b[39mstr\u001b[39;49m(x)\u001b[39m.\u001b[39;49msplit(\u001b[39m'\u001b[39;49m\u001b[39m,\u001b[39;49m\u001b[39m'\u001b[39;49m)[\u001b[39m0\u001b[39;49m]\u001b[39m.\u001b[39;49mremoveprefix(\u001b[39m'\u001b[39m\u001b[39m(\u001b[39m\u001b[39m'\u001b[39m))\n\u001b[1;32m      2\u001b[0m clean_df[\u001b[39m'\u001b[39m\u001b[39mgreen\u001b[39m\u001b[39m'\u001b[39m] \u001b[39m=\u001b[39m clean_df[\u001b[39m'\u001b[39m\u001b[39mrgb\u001b[39m\u001b[39m'\u001b[39m]\u001b[39m.\u001b[39mapply(\u001b[39mlambda\u001b[39;00m x: \u001b[39mstr\u001b[39m(x)\u001b[39m.\u001b[39msplit(\u001b[39m'\u001b[39m\u001b[39m,\u001b[39m\u001b[39m'\u001b[39m)[\u001b[39m1\u001b[39m])\n\u001b[1;32m      3\u001b[0m clean_df[\u001b[39m'\u001b[39m\u001b[39mblue\u001b[39m\u001b[39m'\u001b[39m] \u001b[39m=\u001b[39m clean_df[\u001b[39m'\u001b[39m\u001b[39mrgb\u001b[39m\u001b[39m'\u001b[39m]\u001b[39m.\u001b[39mapply(\u001b[39mlambda\u001b[39;00m x: \u001b[39mstr\u001b[39m(x)\u001b[39m.\u001b[39msplit(\u001b[39m'\u001b[39m\u001b[39m,\u001b[39m\u001b[39m'\u001b[39m)[\u001b[39m2\u001b[39m]\u001b[39m.\u001b[39mremovesuffix(\u001b[39m'\u001b[39m\u001b[39m)\u001b[39m\u001b[39m'\u001b[39m))\n",
      "\u001b[0;31mAttributeError\u001b[0m: 'str' object has no attribute 'removeprefix'"
     ]
    }
   ],
   "source": [
    "clean_df['red'] = clean_df['rgb'].apply(lambda x: str(x).split(',')[0].removeprefix('('))\n",
    "clean_df['green'] = clean_df['rgb'].apply(lambda x: str(x).split(',')[1])\n",
    "clean_df['blue'] = clean_df['rgb'].apply(lambda x: str(x).split(',')[2].removesuffix(')'))"
   ]
  },
  {
   "cell_type": "code",
   "execution_count": 53,
   "metadata": {},
   "outputs": [],
   "source": [
    "clean_cta = pd.read_csv('../clean_data/clean_cta.csv')\n",
    "clean_eng = pd.read_csv('../clean_data/clean_engagement.csv')\n",
    "clean_logo = pd.read_csv('../clean_data/clean_logo.csv')\n",
    "clean_text = pd.read_csv('../clean_data/extracted_features.csv')\n",
    "perf_data = pd.read_csv('../data/performance_data.csv')\n",
    "\n"
   ]
  },
  {
   "cell_type": "code",
   "execution_count": 49,
   "metadata": {},
   "outputs": [
    {
     "data": {
      "text/plain": [
       "Assets                0\n",
       "top_left_X            0\n",
       "top_left_Y            0\n",
       "bottom_right_X        0\n",
       "top_right_Y           0\n",
       "height                0\n",
       "width                 0\n",
       "total_image_height    0\n",
       "total_image_width     0\n",
       "dtype: int64"
      ]
     },
     "execution_count": 49,
     "metadata": {},
     "output_type": "execute_result"
    }
   ],
   "source": [
    "clean_cta.isnull().sum()"
   ]
  },
  {
   "cell_type": "code",
   "execution_count": 50,
   "metadata": {},
   "outputs": [
    {
     "data": {
      "text/plain": [
       "Assets                0\n",
       "top_left_X            0\n",
       "top_left_Y            0\n",
       "bottom_right_X        0\n",
       "top_right_Y           0\n",
       "height                0\n",
       "width                 0\n",
       "total_image_height    0\n",
       "total_image_width     0\n",
       "dtype: int64"
      ]
     },
     "execution_count": 50,
     "metadata": {},
     "output_type": "execute_result"
    }
   ],
   "source": [
    "clean_eng.isnull().sum()"
   ]
  },
  {
   "cell_type": "code",
   "execution_count": 51,
   "metadata": {},
   "outputs": [
    {
     "data": {
      "text/plain": [
       "Assets                0\n",
       "top_left_X            0\n",
       "top_left_Y            0\n",
       "bottom_right_X        0\n",
       "top_right_Y           0\n",
       "height                0\n",
       "width                 0\n",
       "total_image_height    0\n",
       "total_image_width     0\n",
       "dtype: int64"
      ]
     },
     "execution_count": 51,
     "metadata": {},
     "output_type": "execute_result"
    }
   ],
   "source": [
    "clean_logo.isnull().sum()"
   ]
  },
  {
   "cell_type": "code",
   "execution_count": 52,
   "metadata": {},
   "outputs": [
    {
     "data": {
      "text/plain": [
       "Game_Id            0\n",
       "Full_Text          0\n",
       "Txt_char_lenght    0\n",
       "Txt_Word_length    0\n",
       "dtype: int64"
      ]
     },
     "execution_count": 52,
     "metadata": {},
     "output_type": "execute_result"
    }
   ],
   "source": [
    "clean_text.isnull().sum()"
   ]
  },
  {
   "cell_type": "code",
   "execution_count": 54,
   "metadata": {},
   "outputs": [
    {
     "data": {
      "text/plain": [
       "game_id         0\n",
       "preview_link    0\n",
       "ER              0\n",
       "CTR             0\n",
       "dtype: int64"
      ]
     },
     "execution_count": 54,
     "metadata": {},
     "output_type": "execute_result"
    }
   ],
   "source": [
    "perf_data.isnull().sum()"
   ]
  },
  {
   "cell_type": "code",
   "execution_count": 55,
   "metadata": {},
   "outputs": [],
   "source": [
    "clean_text.rename(columns={'Game_Id':'Assets'},inplace=True)\n",
    "perf_data.rename(columns={'game_id':'Assets'},inplace=True)"
   ]
  },
  {
   "cell_type": "code",
   "execution_count": 58,
   "metadata": {},
   "outputs": [],
   "source": [
    "perf_data.drop('preview_link',axis=1,inplace=True)"
   ]
  },
  {
   "cell_type": "code",
   "execution_count": 59,
   "metadata": {},
   "outputs": [
    {
     "name": "stdout",
     "output_type": "stream",
     "text": [
      "<class 'pandas.core.frame.DataFrame'>\n",
      "RangeIndex: 905 entries, 0 to 904\n",
      "Data columns (total 3 columns):\n",
      " #   Column  Non-Null Count  Dtype  \n",
      "---  ------  --------------  -----  \n",
      " 0   Assets  905 non-null    object \n",
      " 1   ER      905 non-null    float64\n",
      " 2   CTR     905 non-null    float64\n",
      "dtypes: float64(2), object(1)\n",
      "memory usage: 21.3+ KB\n"
     ]
    }
   ],
   "source": [
    "perf_data.info()"
   ]
  },
  {
   "cell_type": "code",
   "execution_count": 60,
   "metadata": {},
   "outputs": [],
   "source": [
    "merged_df = pd.merge(pd.merge(pd.merge(clean_cta,clean_eng,on='Assets'),clean_logo,on='Assets'),clean_text,on='Assets')"
   ]
  },
  {
   "cell_type": "code",
   "execution_count": 61,
   "metadata": {},
   "outputs": [
    {
     "name": "stdout",
     "output_type": "stream",
     "text": [
      "<class 'pandas.core.frame.DataFrame'>\n",
      "Int64Index: 546 entries, 0 to 545\n",
      "Data columns (total 28 columns):\n",
      " #   Column                Non-Null Count  Dtype  \n",
      "---  ------                --------------  -----  \n",
      " 0   Assets                546 non-null    object \n",
      " 1   top_left_X_x          546 non-null    float64\n",
      " 2   top_left_Y_x          546 non-null    float64\n",
      " 3   bottom_right_X_x      546 non-null    float64\n",
      " 4   top_right_Y_x         546 non-null    float64\n",
      " 5   height_x              546 non-null    float64\n",
      " 6   width_x               546 non-null    float64\n",
      " 7   total_image_height_x  546 non-null    float64\n",
      " 8   total_image_width_x   546 non-null    float64\n",
      " 9   top_left_X_y          546 non-null    float64\n",
      " 10  top_left_Y_y          546 non-null    float64\n",
      " 11  bottom_right_X_y      546 non-null    float64\n",
      " 12  top_right_Y_y         546 non-null    float64\n",
      " 13  height_y              546 non-null    float64\n",
      " 14  width_y               546 non-null    float64\n",
      " 15  total_image_height_y  546 non-null    float64\n",
      " 16  total_image_width_y   546 non-null    float64\n",
      " 17  top_left_X            546 non-null    float64\n",
      " 18  top_left_Y            546 non-null    float64\n",
      " 19  bottom_right_X        546 non-null    float64\n",
      " 20  top_right_Y           546 non-null    float64\n",
      " 21  height                546 non-null    float64\n",
      " 22  width                 546 non-null    float64\n",
      " 23  total_image_height    546 non-null    float64\n",
      " 24  total_image_width     546 non-null    float64\n",
      " 25  Full_Text             546 non-null    object \n",
      " 26  Txt_char_lenght       546 non-null    int64  \n",
      " 27  Txt_Word_length       546 non-null    int64  \n",
      "dtypes: float64(24), int64(2), object(2)\n",
      "memory usage: 123.7+ KB\n"
     ]
    }
   ],
   "source": [
    "merged_df.info()"
   ]
  },
  {
   "cell_type": "code",
   "execution_count": 64,
   "metadata": {},
   "outputs": [],
   "source": [
    "merged_df2 = pd.merge(merged_df,perf_data,on='Assets')"
   ]
  },
  {
   "cell_type": "code",
   "execution_count": 65,
   "metadata": {},
   "outputs": [
    {
     "name": "stdout",
     "output_type": "stream",
     "text": [
      "<class 'pandas.core.frame.DataFrame'>\n",
      "Int64Index: 546 entries, 0 to 545\n",
      "Data columns (total 30 columns):\n",
      " #   Column                Non-Null Count  Dtype  \n",
      "---  ------                --------------  -----  \n",
      " 0   Assets                546 non-null    object \n",
      " 1   top_left_X_x          546 non-null    float64\n",
      " 2   top_left_Y_x          546 non-null    float64\n",
      " 3   bottom_right_X_x      546 non-null    float64\n",
      " 4   top_right_Y_x         546 non-null    float64\n",
      " 5   height_x              546 non-null    float64\n",
      " 6   width_x               546 non-null    float64\n",
      " 7   total_image_height_x  546 non-null    float64\n",
      " 8   total_image_width_x   546 non-null    float64\n",
      " 9   top_left_X_y          546 non-null    float64\n",
      " 10  top_left_Y_y          546 non-null    float64\n",
      " 11  bottom_right_X_y      546 non-null    float64\n",
      " 12  top_right_Y_y         546 non-null    float64\n",
      " 13  height_y              546 non-null    float64\n",
      " 14  width_y               546 non-null    float64\n",
      " 15  total_image_height_y  546 non-null    float64\n",
      " 16  total_image_width_y   546 non-null    float64\n",
      " 17  top_left_X            546 non-null    float64\n",
      " 18  top_left_Y            546 non-null    float64\n",
      " 19  bottom_right_X        546 non-null    float64\n",
      " 20  top_right_Y           546 non-null    float64\n",
      " 21  height                546 non-null    float64\n",
      " 22  width                 546 non-null    float64\n",
      " 23  total_image_height    546 non-null    float64\n",
      " 24  total_image_width     546 non-null    float64\n",
      " 25  Full_Text             546 non-null    object \n",
      " 26  Txt_char_lenght       546 non-null    int64  \n",
      " 27  Txt_Word_length       546 non-null    int64  \n",
      " 28  ER                    546 non-null    float64\n",
      " 29  CTR                   546 non-null    float64\n",
      "dtypes: float64(26), int64(2), object(2)\n",
      "memory usage: 132.2+ KB\n"
     ]
    }
   ],
   "source": [
    "merged_df2.info()"
   ]
  },
  {
   "cell_type": "code",
   "execution_count": 66,
   "metadata": {},
   "outputs": [],
   "source": [
    "target = merged_df2.pop('ER')"
   ]
  },
  {
   "cell_type": "code",
   "execution_count": 71,
   "metadata": {},
   "outputs": [],
   "source": [
    "# type(target)\n",
    "merged_df2.drop('CTR',axis=1,inplace=True)"
   ]
  },
  {
   "cell_type": "code",
   "execution_count": 72,
   "metadata": {},
   "outputs": [
    {
     "name": "stdout",
     "output_type": "stream",
     "text": [
      "<class 'pandas.core.frame.DataFrame'>\n",
      "Int64Index: 546 entries, 0 to 545\n",
      "Data columns (total 28 columns):\n",
      " #   Column                Non-Null Count  Dtype  \n",
      "---  ------                --------------  -----  \n",
      " 0   Assets                546 non-null    object \n",
      " 1   top_left_X_x          546 non-null    float64\n",
      " 2   top_left_Y_x          546 non-null    float64\n",
      " 3   bottom_right_X_x      546 non-null    float64\n",
      " 4   top_right_Y_x         546 non-null    float64\n",
      " 5   height_x              546 non-null    float64\n",
      " 6   width_x               546 non-null    float64\n",
      " 7   total_image_height_x  546 non-null    float64\n",
      " 8   total_image_width_x   546 non-null    float64\n",
      " 9   top_left_X_y          546 non-null    float64\n",
      " 10  top_left_Y_y          546 non-null    float64\n",
      " 11  bottom_right_X_y      546 non-null    float64\n",
      " 12  top_right_Y_y         546 non-null    float64\n",
      " 13  height_y              546 non-null    float64\n",
      " 14  width_y               546 non-null    float64\n",
      " 15  total_image_height_y  546 non-null    float64\n",
      " 16  total_image_width_y   546 non-null    float64\n",
      " 17  top_left_X            546 non-null    float64\n",
      " 18  top_left_Y            546 non-null    float64\n",
      " 19  bottom_right_X        546 non-null    float64\n",
      " 20  top_right_Y           546 non-null    float64\n",
      " 21  height                546 non-null    float64\n",
      " 22  width                 546 non-null    float64\n",
      " 23  total_image_height    546 non-null    float64\n",
      " 24  total_image_width     546 non-null    float64\n",
      " 25  Full_Text             546 non-null    object \n",
      " 26  Txt_char_lenght       546 non-null    int64  \n",
      " 27  Txt_Word_length       546 non-null    int64  \n",
      "dtypes: float64(24), int64(2), object(2)\n",
      "memory usage: 139.9+ KB\n"
     ]
    }
   ],
   "source": [
    "merged_df2.info()"
   ]
  },
  {
   "cell_type": "code",
   "execution_count": 73,
   "metadata": {},
   "outputs": [],
   "source": [
    "df = merged_df2.copy()"
   ]
  },
  {
   "cell_type": "code",
   "execution_count": 74,
   "metadata": {},
   "outputs": [
    {
     "name": "stdout",
     "output_type": "stream",
     "text": [
      "<class 'pandas.core.frame.DataFrame'>\n",
      "Int64Index: 546 entries, 0 to 545\n",
      "Data columns (total 28 columns):\n",
      " #   Column                Non-Null Count  Dtype  \n",
      "---  ------                --------------  -----  \n",
      " 0   Assets                546 non-null    object \n",
      " 1   top_left_X_x          546 non-null    float64\n",
      " 2   top_left_Y_x          546 non-null    float64\n",
      " 3   bottom_right_X_x      546 non-null    float64\n",
      " 4   top_right_Y_x         546 non-null    float64\n",
      " 5   height_x              546 non-null    float64\n",
      " 6   width_x               546 non-null    float64\n",
      " 7   total_image_height_x  546 non-null    float64\n",
      " 8   total_image_width_x   546 non-null    float64\n",
      " 9   top_left_X_y          546 non-null    float64\n",
      " 10  top_left_Y_y          546 non-null    float64\n",
      " 11  bottom_right_X_y      546 non-null    float64\n",
      " 12  top_right_Y_y         546 non-null    float64\n",
      " 13  height_y              546 non-null    float64\n",
      " 14  width_y               546 non-null    float64\n",
      " 15  total_image_height_y  546 non-null    float64\n",
      " 16  total_image_width_y   546 non-null    float64\n",
      " 17  top_left_X            546 non-null    float64\n",
      " 18  top_left_Y            546 non-null    float64\n",
      " 19  bottom_right_X        546 non-null    float64\n",
      " 20  top_right_Y           546 non-null    float64\n",
      " 21  height                546 non-null    float64\n",
      " 22  width                 546 non-null    float64\n",
      " 23  total_image_height    546 non-null    float64\n",
      " 24  total_image_width     546 non-null    float64\n",
      " 25  Full_Text             546 non-null    object \n",
      " 26  Txt_char_lenght       546 non-null    int64  \n",
      " 27  Txt_Word_length       546 non-null    int64  \n",
      "dtypes: float64(24), int64(2), object(2)\n",
      "memory usage: 139.9+ KB\n"
     ]
    }
   ],
   "source": [
    "df.info()"
   ]
  },
  {
   "cell_type": "code",
   "execution_count": 77,
   "metadata": {},
   "outputs": [
    {
     "data": {
      "text/plain": [
       "Assets                   object\n",
       "top_left_X_x            float64\n",
       "top_left_Y_x            float64\n",
       "bottom_right_X_x        float64\n",
       "top_right_Y_x           float64\n",
       "height_x                float64\n",
       "width_x                 float64\n",
       "total_image_height_x    float64\n",
       "total_image_width_x     float64\n",
       "top_left_X_y            float64\n",
       "top_left_Y_y            float64\n",
       "bottom_right_X_y        float64\n",
       "top_right_Y_y           float64\n",
       "height_y                float64\n",
       "width_y                 float64\n",
       "total_image_height_y    float64\n",
       "total_image_width_y     float64\n",
       "top_left_X              float64\n",
       "top_left_Y              float64\n",
       "bottom_right_X          float64\n",
       "top_right_Y             float64\n",
       "height                  float64\n",
       "width                   float64\n",
       "total_image_height      float64\n",
       "total_image_width       float64\n",
       "Full_Text                object\n",
       "Txt_char_lenght           int64\n",
       "Txt_Word_length           int64\n",
       "dtype: object"
      ]
     },
     "execution_count": 77,
     "metadata": {},
     "output_type": "execute_result"
    }
   ],
   "source": [
    "df.dtypes"
   ]
  },
  {
   "cell_type": "code",
   "execution_count": 79,
   "metadata": {},
   "outputs": [],
   "source": [
    "df.drop(['Full_Text','Assets'],axis=1,inplace=True)"
   ]
  },
  {
   "cell_type": "code",
   "execution_count": 80,
   "metadata": {},
   "outputs": [
    {
     "data": {
      "text/plain": [
       "top_left_X_x            float64\n",
       "top_left_Y_x            float64\n",
       "bottom_right_X_x        float64\n",
       "top_right_Y_x           float64\n",
       "height_x                float64\n",
       "width_x                 float64\n",
       "total_image_height_x    float64\n",
       "total_image_width_x     float64\n",
       "top_left_X_y            float64\n",
       "top_left_Y_y            float64\n",
       "bottom_right_X_y        float64\n",
       "top_right_Y_y           float64\n",
       "height_y                float64\n",
       "width_y                 float64\n",
       "total_image_height_y    float64\n",
       "total_image_width_y     float64\n",
       "top_left_X              float64\n",
       "top_left_Y              float64\n",
       "bottom_right_X          float64\n",
       "top_right_Y             float64\n",
       "height                  float64\n",
       "width                   float64\n",
       "total_image_height      float64\n",
       "total_image_width       float64\n",
       "Txt_char_lenght           int64\n",
       "Txt_Word_length           int64\n",
       "dtype: object"
      ]
     },
     "execution_count": 80,
     "metadata": {},
     "output_type": "execute_result"
    }
   ],
   "source": [
    "df.dtypes"
   ]
  },
  {
   "cell_type": "code",
   "execution_count": 81,
   "metadata": {},
   "outputs": [],
   "source": [
    "# Extract the training and test data\n",
    "data = df.values\n",
    "X = data[:, 1:]  # all rows, no label\n",
    "y = target  # all rows, label only\n",
    "X_train, X_test, y_train, y_test = train_test_split(X, y, test_size=0.25, random_state=42)"
   ]
  },
  {
   "cell_type": "code",
   "execution_count": null,
   "metadata": {},
   "outputs": [],
   "source": []
  },
  {
   "cell_type": "code",
   "execution_count": 82,
   "metadata": {},
   "outputs": [],
   "source": [
    "# Scale the data to be between -1 and 1\n",
    "scaler = StandardScaler()\n",
    "scaler.fit(X_train)\n",
    "X_train = scaler.transform(X_train)\n",
    "X_test = scaler.transform(X_test)"
   ]
  },
  {
   "cell_type": "code",
   "execution_count": 83,
   "metadata": {},
   "outputs": [],
   "source": [
    "# Establish model\n",
    "from sklearn.ensemble import RandomForestRegressor\n",
    "model = RandomForestRegressor(n_jobs=-1)"
   ]
  },
  {
   "cell_type": "code",
   "execution_count": 84,
   "metadata": {},
   "outputs": [
    {
     "data": {
      "text/plain": [
       "[<matplotlib.lines.Line2D at 0x7f0c8d883220>]"
      ]
     },
     "execution_count": 84,
     "metadata": {},
     "output_type": "execute_result"
    },
    {
     "data": {
      "image/png": "[encoded data removed]",
      "text/plain": [
       "<Figure size 640x480 with 1 Axes>"
      ]
     },
     "metadata": {},
     "output_type": "display_data"
    }
   ],
   "source": [
    "# Try different numbers of n_estimators \n",
    "estimators = np.arange(10, 200, 10)\n",
    "scores = []\n",
    "for n in estimators:\n",
    "    model.set_params(n_estimators=n)\n",
    "    model.fit(X_train, y_train)\n",
    "    scores.append(model.score(X_test, y_test))\n",
    "plt.title(\"Effect of n_estimators\")\n",
    "plt.xlabel(\"n_estimator\")\n",
    "plt.ylabel(\"score\")\n",
    "plt.plot(estimators, scores)"
   ]
  },
  {
   "cell_type": "code",
   "execution_count": null,
   "metadata": {},
   "outputs": [],
   "source": []
  }
 ],
 "metadata": {
  "kernelspec": {
   "display_name": "Python 3.8.10 ('venv': venv)",
   "language": "python",
   "name": "python3"
  },
  "language_info": {
   "codemirror_mode": {
    "name": "ipython",
    "version": 3
   },
   "file_extension": ".py",
   "mimetype": "text/x-python",
   "name": "python",
   "nbconvert_exporter": "python",
   "pygments_lexer": "ipython3",
   "version": "3.8.10"
  },
  "orig_nbformat": 4,
  "vscode": {
   "interpreter": {
    "hash": "aeee4e197d2a8de63b4655742b5304ff061a1568dcf28ad00cb77f318a8df61e"
   }
  }
 },
 "nbformat": 4,
 "nbformat_minor": 2
}
